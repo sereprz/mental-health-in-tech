{
 "cells": [
  {
   "cell_type": "code",
   "execution_count": 1,
   "metadata": {},
   "outputs": [],
   "source": [
    "import pandas as pd\n",
    "import numpy as np"
   ]
  },
  {
   "cell_type": "code",
   "execution_count": 2,
   "metadata": {},
   "outputs": [],
   "source": [
    "import matplotlib.pyplot as plt"
   ]
  },
  {
   "cell_type": "code",
   "execution_count": 21,
   "metadata": {},
   "outputs": [],
   "source": [
    "pd.options.display.max_rows = 30\n",
    "pd.options.display.max_seq_items = 200\n",
    "pd.set_option('display.float_format', lambda x: '%.3f' % x)"
   ]
  },
  {
   "cell_type": "code",
   "execution_count": 4,
   "metadata": {},
   "outputs": [],
   "source": [
    "df = pd.read_csv('/Users/serena/Documents/datasets/survey.csv')"
   ]
  },
  {
   "cell_type": "markdown",
   "metadata": {},
   "source": [
    "source https://www.kaggle.com/osmi/mental-health-in-tech-survey"
   ]
  },
  {
   "cell_type": "code",
   "execution_count": 6,
   "metadata": {},
   "outputs": [
    {
     "data": {
      "text/plain": [
       "Index(['Timestamp', 'Age', 'Gender', 'Country', 'state', 'self_employed',\n",
       "       'family_history', 'treatment', 'work_interfere', 'no_employees',\n",
       "       'remote_work', 'tech_company', 'benefits', 'care_options',\n",
       "       'wellness_program', 'seek_help', 'anonymity', 'leave',\n",
       "       'mental_health_consequence', 'phys_health_consequence', 'coworkers',\n",
       "       'supervisor', 'mental_health_interview', 'phys_health_interview',\n",
       "       'mental_vs_physical', 'obs_consequence', 'comments'],\n",
       "      dtype='object')"
      ]
     },
     "execution_count": 6,
     "metadata": {},
     "output_type": "execute_result"
    }
   ],
   "source": [
    "df.columns"
   ]
  },
  {
   "cell_type": "code",
   "execution_count": 7,
   "metadata": {},
   "outputs": [
    {
     "data": {
      "text/plain": [
       "(1259, 27)"
      ]
     },
     "execution_count": 7,
     "metadata": {},
     "output_type": "execute_result"
    }
   ],
   "source": [
    "df.shape"
   ]
  },
  {
   "cell_type": "code",
   "execution_count": 8,
   "metadata": {},
   "outputs": [
    {
     "data": {
      "text/html": [
       "<div>\n",
       "<style scoped>\n",
       "    .dataframe tbody tr th:only-of-type {\n",
       "        vertical-align: middle;\n",
       "    }\n",
       "\n",
       "    .dataframe tbody tr th {\n",
       "        vertical-align: top;\n",
       "    }\n",
       "\n",
       "    .dataframe thead th {\n",
       "        text-align: right;\n",
       "    }\n",
       "</style>\n",
       "<table border=\"1\" class=\"dataframe\">\n",
       "  <thead>\n",
       "    <tr style=\"text-align: right;\">\n",
       "      <th></th>\n",
       "      <th>Timestamp</th>\n",
       "      <th>Age</th>\n",
       "      <th>Gender</th>\n",
       "      <th>Country</th>\n",
       "      <th>state</th>\n",
       "      <th>self_employed</th>\n",
       "      <th>family_history</th>\n",
       "      <th>treatment</th>\n",
       "      <th>work_interfere</th>\n",
       "      <th>no_employees</th>\n",
       "      <th>...</th>\n",
       "      <th>leave</th>\n",
       "      <th>mental_health_consequence</th>\n",
       "      <th>phys_health_consequence</th>\n",
       "      <th>coworkers</th>\n",
       "      <th>supervisor</th>\n",
       "      <th>mental_health_interview</th>\n",
       "      <th>phys_health_interview</th>\n",
       "      <th>mental_vs_physical</th>\n",
       "      <th>obs_consequence</th>\n",
       "      <th>comments</th>\n",
       "    </tr>\n",
       "  </thead>\n",
       "  <tbody>\n",
       "    <tr>\n",
       "      <th>0</th>\n",
       "      <td>2014-08-27 11:29:31</td>\n",
       "      <td>37</td>\n",
       "      <td>Female</td>\n",
       "      <td>United States</td>\n",
       "      <td>IL</td>\n",
       "      <td>NaN</td>\n",
       "      <td>No</td>\n",
       "      <td>Yes</td>\n",
       "      <td>Often</td>\n",
       "      <td>6-25</td>\n",
       "      <td>...</td>\n",
       "      <td>Somewhat easy</td>\n",
       "      <td>No</td>\n",
       "      <td>No</td>\n",
       "      <td>Some of them</td>\n",
       "      <td>Yes</td>\n",
       "      <td>No</td>\n",
       "      <td>Maybe</td>\n",
       "      <td>Yes</td>\n",
       "      <td>No</td>\n",
       "      <td>NaN</td>\n",
       "    </tr>\n",
       "    <tr>\n",
       "      <th>1</th>\n",
       "      <td>2014-08-27 11:29:37</td>\n",
       "      <td>44</td>\n",
       "      <td>M</td>\n",
       "      <td>United States</td>\n",
       "      <td>IN</td>\n",
       "      <td>NaN</td>\n",
       "      <td>No</td>\n",
       "      <td>No</td>\n",
       "      <td>Rarely</td>\n",
       "      <td>More than 1000</td>\n",
       "      <td>...</td>\n",
       "      <td>Don't know</td>\n",
       "      <td>Maybe</td>\n",
       "      <td>No</td>\n",
       "      <td>No</td>\n",
       "      <td>No</td>\n",
       "      <td>No</td>\n",
       "      <td>No</td>\n",
       "      <td>Don't know</td>\n",
       "      <td>No</td>\n",
       "      <td>NaN</td>\n",
       "    </tr>\n",
       "    <tr>\n",
       "      <th>2</th>\n",
       "      <td>2014-08-27 11:29:44</td>\n",
       "      <td>32</td>\n",
       "      <td>Male</td>\n",
       "      <td>Canada</td>\n",
       "      <td>NaN</td>\n",
       "      <td>NaN</td>\n",
       "      <td>No</td>\n",
       "      <td>No</td>\n",
       "      <td>Rarely</td>\n",
       "      <td>6-25</td>\n",
       "      <td>...</td>\n",
       "      <td>Somewhat difficult</td>\n",
       "      <td>No</td>\n",
       "      <td>No</td>\n",
       "      <td>Yes</td>\n",
       "      <td>Yes</td>\n",
       "      <td>Yes</td>\n",
       "      <td>Yes</td>\n",
       "      <td>No</td>\n",
       "      <td>No</td>\n",
       "      <td>NaN</td>\n",
       "    </tr>\n",
       "    <tr>\n",
       "      <th>3</th>\n",
       "      <td>2014-08-27 11:29:46</td>\n",
       "      <td>31</td>\n",
       "      <td>Male</td>\n",
       "      <td>United Kingdom</td>\n",
       "      <td>NaN</td>\n",
       "      <td>NaN</td>\n",
       "      <td>Yes</td>\n",
       "      <td>Yes</td>\n",
       "      <td>Often</td>\n",
       "      <td>26-100</td>\n",
       "      <td>...</td>\n",
       "      <td>Somewhat difficult</td>\n",
       "      <td>Yes</td>\n",
       "      <td>Yes</td>\n",
       "      <td>Some of them</td>\n",
       "      <td>No</td>\n",
       "      <td>Maybe</td>\n",
       "      <td>Maybe</td>\n",
       "      <td>No</td>\n",
       "      <td>Yes</td>\n",
       "      <td>NaN</td>\n",
       "    </tr>\n",
       "    <tr>\n",
       "      <th>4</th>\n",
       "      <td>2014-08-27 11:30:22</td>\n",
       "      <td>31</td>\n",
       "      <td>Male</td>\n",
       "      <td>United States</td>\n",
       "      <td>TX</td>\n",
       "      <td>NaN</td>\n",
       "      <td>No</td>\n",
       "      <td>No</td>\n",
       "      <td>Never</td>\n",
       "      <td>100-500</td>\n",
       "      <td>...</td>\n",
       "      <td>Don't know</td>\n",
       "      <td>No</td>\n",
       "      <td>No</td>\n",
       "      <td>Some of them</td>\n",
       "      <td>Yes</td>\n",
       "      <td>Yes</td>\n",
       "      <td>Yes</td>\n",
       "      <td>Don't know</td>\n",
       "      <td>No</td>\n",
       "      <td>NaN</td>\n",
       "    </tr>\n",
       "  </tbody>\n",
       "</table>\n",
       "<p>5 rows × 27 columns</p>\n",
       "</div>"
      ],
      "text/plain": [
       "             Timestamp  Age  Gender         Country state self_employed  \\\n",
       "0  2014-08-27 11:29:31   37  Female   United States    IL           NaN   \n",
       "1  2014-08-27 11:29:37   44       M   United States    IN           NaN   \n",
       "2  2014-08-27 11:29:44   32    Male          Canada   NaN           NaN   \n",
       "3  2014-08-27 11:29:46   31    Male  United Kingdom   NaN           NaN   \n",
       "4  2014-08-27 11:30:22   31    Male   United States    TX           NaN   \n",
       "\n",
       "  family_history treatment work_interfere    no_employees  ...  \\\n",
       "0             No       Yes          Often            6-25  ...   \n",
       "1             No        No         Rarely  More than 1000  ...   \n",
       "2             No        No         Rarely            6-25  ...   \n",
       "3            Yes       Yes          Often          26-100  ...   \n",
       "4             No        No          Never         100-500  ...   \n",
       "\n",
       "                leave mental_health_consequence phys_health_consequence  \\\n",
       "0       Somewhat easy                        No                      No   \n",
       "1          Don't know                     Maybe                      No   \n",
       "2  Somewhat difficult                        No                      No   \n",
       "3  Somewhat difficult                       Yes                     Yes   \n",
       "4          Don't know                        No                      No   \n",
       "\n",
       "      coworkers supervisor mental_health_interview phys_health_interview  \\\n",
       "0  Some of them        Yes                      No                 Maybe   \n",
       "1            No         No                      No                    No   \n",
       "2           Yes        Yes                     Yes                   Yes   \n",
       "3  Some of them         No                   Maybe                 Maybe   \n",
       "4  Some of them        Yes                     Yes                   Yes   \n",
       "\n",
       "  mental_vs_physical obs_consequence comments  \n",
       "0                Yes              No      NaN  \n",
       "1         Don't know              No      NaN  \n",
       "2                 No              No      NaN  \n",
       "3                 No             Yes      NaN  \n",
       "4         Don't know              No      NaN  \n",
       "\n",
       "[5 rows x 27 columns]"
      ]
     },
     "execution_count": 8,
     "metadata": {},
     "output_type": "execute_result"
    }
   ],
   "source": [
    "df.head()"
   ]
  },
  {
   "cell_type": "code",
   "execution_count": 9,
   "metadata": {
    "scrolled": false
   },
   "outputs": [
    {
     "name": "stdout",
     "output_type": "stream",
     "text": [
      "<class 'pandas.core.frame.DataFrame'>\n",
      "RangeIndex: 1259 entries, 0 to 1258\n",
      "Data columns (total 27 columns):\n",
      "Timestamp                    1259 non-null object\n",
      "Age                          1259 non-null int64\n",
      "Gender                       1259 non-null object\n",
      "Country                      1259 non-null object\n",
      "state                        744 non-null object\n",
      "self_employed                1241 non-null object\n",
      "family_history               1259 non-null object\n",
      "treatment                    1259 non-null object\n",
      "work_interfere               995 non-null object\n",
      "no_employees                 1259 non-null object\n",
      "remote_work                  1259 non-null object\n",
      "tech_company                 1259 non-null object\n",
      "benefits                     1259 non-null object\n",
      "care_options                 1259 non-null object\n",
      "wellness_program             1259 non-null object\n",
      "seek_help                    1259 non-null object\n",
      "anonymity                    1259 non-null object\n",
      "leave                        1259 non-null object\n",
      "mental_health_consequence    1259 non-null object\n",
      "phys_health_consequence      1259 non-null object\n",
      "coworkers                    1259 non-null object\n",
      "supervisor                   1259 non-null object\n",
      "mental_health_interview      1259 non-null object\n",
      "phys_health_interview        1259 non-null object\n",
      "mental_vs_physical           1259 non-null object\n",
      "obs_consequence              1259 non-null object\n",
      "comments                     164 non-null object\n",
      "dtypes: int64(1), object(26)\n",
      "memory usage: 265.7+ KB\n"
     ]
    }
   ],
   "source": [
    "df.info(verbose=True)"
   ]
  },
  {
   "cell_type": "code",
   "execution_count": 10,
   "metadata": {},
   "outputs": [
    {
     "data": {
      "text/plain": [
       "count          1259.000\n",
       "mean       79428148.311\n",
       "std      2818299442.982\n",
       "min           -1726.000\n",
       "25%              27.000\n",
       "50%              31.000\n",
       "75%              36.000\n",
       "max     99999999999.000\n",
       "Name: Age, dtype: float64"
      ]
     },
     "execution_count": 10,
     "metadata": {},
     "output_type": "execute_result"
    }
   ],
   "source": [
    "df['Age'].describe().transpose()"
   ]
  },
  {
   "cell_type": "code",
   "execution_count": 11,
   "metadata": {},
   "outputs": [],
   "source": [
    "df.loc[(df.Age < 0) | (df.Age > 100), 'Age'] = np.NaN"
   ]
  },
  {
   "cell_type": "code",
   "execution_count": 12,
   "metadata": {},
   "outputs": [
    {
     "data": {
      "text/plain": [
       "count   1254.000\n",
       "mean      32.019\n",
       "std        7.375\n",
       "min        5.000\n",
       "25%       27.000\n",
       "50%       31.000\n",
       "75%       36.000\n",
       "max       72.000\n",
       "Name: Age, dtype: float64"
      ]
     },
     "execution_count": 12,
     "metadata": {},
     "output_type": "execute_result"
    }
   ],
   "source": [
    "df['Age'].describe().transpose()"
   ]
  },
  {
   "cell_type": "code",
   "execution_count": 22,
   "metadata": {},
   "outputs": [
    {
     "data": {
      "text/plain": [
       "Male                                              615\n",
       "male                                              206\n",
       "Female                                            121\n",
       "M                                                 116\n",
       "female                                             62\n",
       "                                                 ... \n",
       "cis male                                            1\n",
       "Neuter                                              1\n",
       "Androgyne                                           1\n",
       "ostensibly male, unsure what that really means      1\n",
       "maile                                               1\n",
       "Name: Gender, Length: 49, dtype: int64"
      ]
     },
     "execution_count": 22,
     "metadata": {},
     "output_type": "execute_result"
    }
   ],
   "source": [
    "df['Gender'].value_counts()"
   ]
  },
  {
   "cell_type": "code",
   "execution_count": 23,
   "metadata": {},
   "outputs": [],
   "source": [
    "import plotly.express as px"
   ]
  },
  {
   "cell_type": "code",
   "execution_count": 25,
   "metadata": {},
   "outputs": [
    {
     "data": {
      "application/vnd.plotly.v1+json": {
       "config": {
        "plotlyServerURL": "https://plot.ly"
       },
       "data": [
        {
         "alignmentgroup": "True",
         "boxpoints": "all",
         "hoverlabel": {
          "namelength": 0
         },
         "hovertemplate": "Age=%{y}",
         "legendgroup": "",
         "marker": {
          "color": "#636efa"
         },
         "name": "",
         "notched": false,
         "offsetgroup": "",
         "orientation": "v",
         "showlegend": false,
         "type": "box",
         "x0": " ",
         "xaxis": "x",
         "y": [
          37,
          44,
          32,
          31,
          31,
          33,
          35,
          39,
          42,
          23,
          31,
          29,
          42,
          36,
          27,
          29,
          23,
          32,
          46,
          36,
          29,
          31,
          46,
          41,
          33,
          35,
          33,
          35,
          34,
          37,
          32,
          31,
          30,
          42,
          40,
          27,
          29,
          38,
          50,
          35,
          24,
          35,
          27,
          18,
          30,
          38,
          28,
          34,
          26,
          30,
          22,
          33,
          31,
          32,
          28,
          27,
          32,
          24,
          26,
          33,
          44,
          26,
          27,
          26,
          35,
          40,
          23,
          36,
          31,
          34,
          28,
          34,
          23,
          38,
          33,
          19,
          25,
          31,
          32,
          28,
          38,
          23,
          30,
          27,
          33,
          31,
          39,
          34,
          29,
          32,
          31,
          40,
          34,
          18,
          25,
          29,
          24,
          31,
          33,
          30,
          26,
          44,
          25,
          33,
          29,
          35,
          35,
          28,
          34,
          32,
          22,
          28,
          45,
          32,
          28,
          26,
          21,
          27,
          18,
          35,
          29,
          25,
          33,
          36,
          27,
          27,
          27,
          32,
          31,
          19,
          33,
          32,
          27,
          38,
          24,
          39,
          28,
          39,
          29,
          22,
          38,
          37,
          35,
          null,
          30,
          37,
          24,
          23,
          30,
          29,
          19,
          32,
          28,
          36,
          37,
          25,
          27,
          26,
          27,
          25,
          36,
          25,
          31,
          26,
          33,
          27,
          34,
          42,
          23,
          24,
          26,
          31,
          22,
          23,
          34,
          31,
          28,
          32,
          45,
          33,
          29,
          26,
          28,
          45,
          43,
          37,
          24,
          26,
          23,
          35,
          38,
          28,
          28,
          35,
          32,
          31,
          35,
          26,
          27,
          28,
          27,
          34,
          41,
          37,
          34,
          32,
          21,
          30,
          24,
          26,
          40,
          37,
          26,
          32,
          32,
          27,
          30,
          31,
          29,
          41,
          34,
          33,
          28,
          28,
          23,
          24,
          32,
          34,
          24,
          26,
          36,
          41,
          38,
          38,
          30,
          25,
          37,
          34,
          37,
          28,
          22,
          34,
          33,
          25,
          27,
          40,
          21,
          29,
          32,
          29,
          23,
          28,
          31,
          27,
          24,
          29,
          23,
          42,
          24,
          25,
          27,
          27,
          30,
          29,
          43,
          32,
          41,
          32,
          37,
          32,
          30,
          23,
          30,
          34,
          38,
          33,
          34,
          28,
          28,
          23,
          22,
          27,
          18,
          35,
          25,
          27,
          26,
          18,
          38,
          26,
          30,
          35,
          45,
          32,
          56,
          24,
          30,
          60,
          33,
          37,
          23,
          31,
          26,
          28,
          37,
          26,
          30,
          26,
          25,
          27,
          25,
          35,
          36,
          26,
          27,
          30,
          29,
          25,
          22,
          29,
          41,
          29,
          32,
          24,
          25,
          25,
          30,
          25,
          30,
          33,
          24,
          25,
          31,
          45,
          29,
          46,
          30,
          29,
          24,
          29,
          35,
          33,
          27,
          36,
          33,
          25,
          23,
          54,
          22,
          25,
          29,
          27,
          30,
          26,
          25,
          31,
          33,
          34,
          34,
          29,
          33,
          34,
          26,
          32,
          null,
          28,
          35,
          36,
          21,
          21,
          22,
          41,
          55,
          32,
          21,
          45,
          27,
          25,
          34,
          26,
          41,
          27,
          31,
          25,
          26,
          27,
          42,
          29,
          25,
          33,
          null,
          40,
          31,
          26,
          24,
          29,
          48,
          35,
          32,
          29,
          26,
          28,
          23,
          35,
          29,
          26,
          33,
          33,
          22,
          30,
          33,
          31,
          21,
          31,
          26,
          30,
          30,
          23,
          34,
          55,
          28,
          26,
          28,
          32,
          28,
          21,
          24,
          26,
          23,
          24,
          28,
          24,
          33,
          34,
          27,
          28,
          26,
          20,
          23,
          29,
          26,
          36,
          41,
          33,
          23,
          39,
          34,
          26,
          24,
          37,
          43,
          40,
          30,
          34,
          27,
          36,
          27,
          35,
          32,
          37,
          29,
          33,
          28,
          26,
          27,
          38,
          57,
          28,
          26,
          42,
          31,
          58,
          29,
          39,
          34,
          57,
          27,
          23,
          18,
          30,
          23,
          43,
          18,
          29,
          48,
          43,
          28,
          30,
          26,
          33,
          31,
          30,
          27,
          24,
          25,
          23,
          36,
          25,
          54,
          34,
          38,
          40,
          32,
          25,
          35,
          46,
          42,
          32,
          47,
          22,
          33,
          25,
          29,
          39,
          38,
          43,
          46,
          38,
          33,
          34,
          62,
          23,
          35,
          25,
          36,
          41,
          24,
          51,
          29,
          31,
          27,
          31,
          27,
          23,
          21,
          27,
          39,
          26,
          27,
          22,
          26,
          31,
          32,
          28,
          28,
          23,
          30,
          36,
          21,
          30,
          25,
          32,
          29,
          21,
          27,
          32,
          34,
          33,
          22,
          24,
          65,
          27,
          33,
          36,
          40,
          28,
          39,
          32,
          31,
          38,
          23,
          42,
          27,
          26,
          50,
          37,
          23,
          33,
          29,
          34,
          41,
          50,
          29,
          35,
          27,
          40,
          27,
          29,
          31,
          43,
          34,
          29,
          19,
          41,
          29,
          23,
          24,
          31,
          43,
          31,
          29,
          35,
          33,
          30,
          27,
          32,
          50,
          24,
          27,
          27,
          32,
          42,
          37,
          30,
          29,
          30,
          35,
          35,
          38,
          22,
          24,
          22,
          31,
          23,
          31,
          28,
          37,
          34,
          32,
          28,
          24,
          56,
          31,
          34,
          35,
          28,
          36,
          30,
          35,
          49,
          36,
          35,
          29,
          57,
          31,
          37,
          25,
          30,
          26,
          22,
          39,
          29,
          54,
          34,
          32,
          25,
          29,
          32,
          30,
          31,
          20,
          27,
          32,
          26,
          30,
          30,
          22,
          24,
          26,
          43,
          26,
          23,
          26,
          26,
          35,
          28,
          22,
          29,
          29,
          45,
          33,
          38,
          19,
          29,
          21,
          23,
          33,
          49,
          28,
          27,
          23,
          29,
          30,
          28,
          32,
          32,
          37,
          39,
          31,
          29,
          30,
          33,
          37,
          23,
          43,
          32,
          26,
          32,
          37,
          29,
          34,
          27,
          30,
          29,
          32,
          null,
          25,
          37,
          29,
          27,
          33,
          30,
          29,
          25,
          33,
          31,
          21,
          30,
          29,
          43,
          37,
          24,
          29,
          31,
          5,
          33,
          43,
          33,
          27,
          36,
          37,
          32,
          39,
          31,
          36,
          30,
          28,
          32,
          35,
          19,
          33,
          42,
          37,
          40,
          36,
          29,
          38,
          26,
          34,
          21,
          31,
          37,
          37,
          38,
          27,
          39,
          33,
          27,
          36,
          28,
          39,
          33,
          32,
          28,
          37,
          39,
          43,
          32,
          27,
          31,
          43,
          33,
          34,
          33,
          25,
          25,
          32,
          25,
          37,
          39,
          29,
          33,
          37,
          35,
          22,
          38,
          32,
          28,
          27,
          35,
          29,
          23,
          39,
          30,
          32,
          28,
          40,
          36,
          27,
          41,
          29,
          29,
          35,
          28,
          36,
          39,
          39,
          44,
          26,
          35,
          40,
          35,
          38,
          34,
          43,
          48,
          20,
          40,
          29,
          35,
          29,
          40,
          29,
          29,
          34,
          44,
          24,
          47,
          43,
          36,
          43,
          36,
          31,
          35,
          33,
          37,
          34,
          36,
          40,
          40,
          42,
          23,
          21,
          26,
          31,
          25,
          51,
          24,
          33,
          32,
          32,
          26,
          23,
          33,
          46,
          34,
          35,
          39,
          32,
          43,
          56,
          32,
          41,
          39,
          37,
          30,
          31,
          29,
          23,
          31,
          29,
          30,
          37,
          36,
          35,
          41,
          31,
          38,
          26,
          39,
          42,
          32,
          29,
          30,
          40,
          51,
          33,
          34,
          50,
          24,
          25,
          43,
          25,
          24,
          51,
          49,
          30,
          25,
          36,
          48,
          48,
          53,
          24,
          33,
          25,
          30,
          30,
          34,
          31,
          22,
          28,
          35,
          28,
          42,
          33,
          29,
          43,
          29,
          25,
          31,
          35,
          34,
          43,
          38,
          26,
          38,
          42,
          33,
          32,
          44,
          28,
          40,
          31,
          32,
          28,
          39,
          45,
          43,
          35,
          40,
          34,
          24,
          61,
          36,
          38,
          33,
          30,
          34,
          26,
          33,
          32,
          25,
          35,
          24,
          55,
          33,
          26,
          25,
          45,
          33,
          43,
          30,
          40,
          49,
          29,
          26,
          38,
          27,
          26,
          28,
          40,
          37,
          34,
          28,
          27,
          29,
          39,
          28,
          23,
          8,
          38,
          19,
          30,
          28,
          20,
          35,
          39,
          31,
          32,
          27,
          25,
          42,
          34,
          26,
          35,
          34,
          38,
          34,
          39,
          44,
          40,
          33,
          24,
          38,
          31,
          23,
          26,
          46,
          30,
          25,
          19,
          30,
          32,
          32,
          37,
          42,
          25,
          19,
          40,
          34,
          26,
          31,
          40,
          31,
          36,
          35,
          26,
          44,
          34,
          35,
          28,
          33,
          40,
          26,
          29,
          26,
          33,
          28,
          41,
          39,
          26,
          23,
          35,
          36,
          42,
          39,
          27,
          33,
          31,
          28,
          29,
          27,
          44,
          25,
          24,
          25,
          34,
          26,
          48,
          34,
          39,
          43,
          41,
          25,
          31,
          40,
          43,
          27,
          37,
          32,
          25,
          29,
          30,
          34,
          32,
          37,
          41,
          38,
          32,
          28,
          11,
          43,
          32,
          25,
          37,
          36,
          24,
          40,
          29,
          43,
          29,
          26,
          33,
          35,
          45,
          25,
          50,
          26,
          33,
          30,
          33,
          29,
          37,
          25,
          40,
          24,
          40,
          46,
          38,
          34,
          32,
          44,
          33,
          45,
          35,
          26,
          20,
          null,
          37,
          28,
          42,
          32,
          36,
          27,
          27,
          27,
          25,
          41,
          23,
          21,
          26,
          29,
          28,
          27,
          23,
          26,
          38,
          39,
          35,
          32,
          32,
          26,
          38,
          34,
          39,
          32,
          37,
          31,
          30,
          51,
          29,
          31,
          31,
          26,
          46,
          32,
          29,
          34,
          26,
          32,
          29,
          30,
          40,
          23,
          20,
          38,
          26,
          29,
          40,
          25,
          32,
          38,
          72,
          35,
          28,
          27,
          56,
          38,
          31,
          40,
          44,
          34,
          37,
          38,
          27,
          34,
          35,
          34,
          32,
          25,
          28,
          28,
          31,
          24,
          34,
          32,
          34,
          23,
          33,
          29,
          24,
          45,
          34,
          31,
          33,
          28,
          27,
          42,
          28,
          38,
          46,
          46,
          41,
          23,
          24,
          23,
          39,
          32,
          25,
          39,
          23,
          24,
          25,
          23,
          24,
          23,
          60,
          28,
          28,
          30,
          31,
          31,
          28,
          43,
          32,
          22,
          32,
          36,
          41,
          30,
          30,
          36,
          29,
          36,
          26,
          32,
          34,
          46,
          25
         ],
         "y0": " ",
         "yaxis": "y"
        }
       ],
       "layout": {
        "boxmode": "group",
        "height": 600,
        "legend": {
         "tracegroupgap": 0
        },
        "margin": {
         "t": 60
        },
        "template": {
         "data": {
          "bar": [
           {
            "error_x": {
             "color": "#2a3f5f"
            },
            "error_y": {
             "color": "#2a3f5f"
            },
            "marker": {
             "line": {
              "color": "#E5ECF6",
              "width": 0.5
             }
            },
            "type": "bar"
           }
          ],
          "barpolar": [
           {
            "marker": {
             "line": {
              "color": "#E5ECF6",
              "width": 0.5
             }
            },
            "type": "barpolar"
           }
          ],
          "carpet": [
           {
            "aaxis": {
             "endlinecolor": "#2a3f5f",
             "gridcolor": "white",
             "linecolor": "white",
             "minorgridcolor": "white",
             "startlinecolor": "#2a3f5f"
            },
            "baxis": {
             "endlinecolor": "#2a3f5f",
             "gridcolor": "white",
             "linecolor": "white",
             "minorgridcolor": "white",
             "startlinecolor": "#2a3f5f"
            },
            "type": "carpet"
           }
          ],
          "choropleth": [
           {
            "colorbar": {
             "outlinewidth": 0,
             "ticks": ""
            },
            "type": "choropleth"
           }
          ],
          "contour": [
           {
            "colorbar": {
             "outlinewidth": 0,
             "ticks": ""
            },
            "colorscale": [
             [
              0,
              "#0d0887"
             ],
             [
              0.1111111111111111,
              "#46039f"
             ],
             [
              0.2222222222222222,
              "#7201a8"
             ],
             [
              0.3333333333333333,
              "#9c179e"
             ],
             [
              0.4444444444444444,
              "#bd3786"
             ],
             [
              0.5555555555555556,
              "#d8576b"
             ],
             [
              0.6666666666666666,
              "#ed7953"
             ],
             [
              0.7777777777777778,
              "#fb9f3a"
             ],
             [
              0.8888888888888888,
              "#fdca26"
             ],
             [
              1,
              "#f0f921"
             ]
            ],
            "type": "contour"
           }
          ],
          "contourcarpet": [
           {
            "colorbar": {
             "outlinewidth": 0,
             "ticks": ""
            },
            "type": "contourcarpet"
           }
          ],
          "heatmap": [
           {
            "colorbar": {
             "outlinewidth": 0,
             "ticks": ""
            },
            "colorscale": [
             [
              0,
              "#0d0887"
             ],
             [
              0.1111111111111111,
              "#46039f"
             ],
             [
              0.2222222222222222,
              "#7201a8"
             ],
             [
              0.3333333333333333,
              "#9c179e"
             ],
             [
              0.4444444444444444,
              "#bd3786"
             ],
             [
              0.5555555555555556,
              "#d8576b"
             ],
             [
              0.6666666666666666,
              "#ed7953"
             ],
             [
              0.7777777777777778,
              "#fb9f3a"
             ],
             [
              0.8888888888888888,
              "#fdca26"
             ],
             [
              1,
              "#f0f921"
             ]
            ],
            "type": "heatmap"
           }
          ],
          "heatmapgl": [
           {
            "colorbar": {
             "outlinewidth": 0,
             "ticks": ""
            },
            "colorscale": [
             [
              0,
              "#0d0887"
             ],
             [
              0.1111111111111111,
              "#46039f"
             ],
             [
              0.2222222222222222,
              "#7201a8"
             ],
             [
              0.3333333333333333,
              "#9c179e"
             ],
             [
              0.4444444444444444,
              "#bd3786"
             ],
             [
              0.5555555555555556,
              "#d8576b"
             ],
             [
              0.6666666666666666,
              "#ed7953"
             ],
             [
              0.7777777777777778,
              "#fb9f3a"
             ],
             [
              0.8888888888888888,
              "#fdca26"
             ],
             [
              1,
              "#f0f921"
             ]
            ],
            "type": "heatmapgl"
           }
          ],
          "histogram": [
           {
            "marker": {
             "colorbar": {
              "outlinewidth": 0,
              "ticks": ""
             }
            },
            "type": "histogram"
           }
          ],
          "histogram2d": [
           {
            "colorbar": {
             "outlinewidth": 0,
             "ticks": ""
            },
            "colorscale": [
             [
              0,
              "#0d0887"
             ],
             [
              0.1111111111111111,
              "#46039f"
             ],
             [
              0.2222222222222222,
              "#7201a8"
             ],
             [
              0.3333333333333333,
              "#9c179e"
             ],
             [
              0.4444444444444444,
              "#bd3786"
             ],
             [
              0.5555555555555556,
              "#d8576b"
             ],
             [
              0.6666666666666666,
              "#ed7953"
             ],
             [
              0.7777777777777778,
              "#fb9f3a"
             ],
             [
              0.8888888888888888,
              "#fdca26"
             ],
             [
              1,
              "#f0f921"
             ]
            ],
            "type": "histogram2d"
           }
          ],
          "histogram2dcontour": [
           {
            "colorbar": {
             "outlinewidth": 0,
             "ticks": ""
            },
            "colorscale": [
             [
              0,
              "#0d0887"
             ],
             [
              0.1111111111111111,
              "#46039f"
             ],
             [
              0.2222222222222222,
              "#7201a8"
             ],
             [
              0.3333333333333333,
              "#9c179e"
             ],
             [
              0.4444444444444444,
              "#bd3786"
             ],
             [
              0.5555555555555556,
              "#d8576b"
             ],
             [
              0.6666666666666666,
              "#ed7953"
             ],
             [
              0.7777777777777778,
              "#fb9f3a"
             ],
             [
              0.8888888888888888,
              "#fdca26"
             ],
             [
              1,
              "#f0f921"
             ]
            ],
            "type": "histogram2dcontour"
           }
          ],
          "mesh3d": [
           {
            "colorbar": {
             "outlinewidth": 0,
             "ticks": ""
            },
            "type": "mesh3d"
           }
          ],
          "parcoords": [
           {
            "line": {
             "colorbar": {
              "outlinewidth": 0,
              "ticks": ""
             }
            },
            "type": "parcoords"
           }
          ],
          "scatter": [
           {
            "marker": {
             "colorbar": {
              "outlinewidth": 0,
              "ticks": ""
             }
            },
            "type": "scatter"
           }
          ],
          "scatter3d": [
           {
            "line": {
             "colorbar": {
              "outlinewidth": 0,
              "ticks": ""
             }
            },
            "marker": {
             "colorbar": {
              "outlinewidth": 0,
              "ticks": ""
             }
            },
            "type": "scatter3d"
           }
          ],
          "scattercarpet": [
           {
            "marker": {
             "colorbar": {
              "outlinewidth": 0,
              "ticks": ""
             }
            },
            "type": "scattercarpet"
           }
          ],
          "scattergeo": [
           {
            "marker": {
             "colorbar": {
              "outlinewidth": 0,
              "ticks": ""
             }
            },
            "type": "scattergeo"
           }
          ],
          "scattergl": [
           {
            "marker": {
             "colorbar": {
              "outlinewidth": 0,
              "ticks": ""
             }
            },
            "type": "scattergl"
           }
          ],
          "scattermapbox": [
           {
            "marker": {
             "colorbar": {
              "outlinewidth": 0,
              "ticks": ""
             }
            },
            "type": "scattermapbox"
           }
          ],
          "scatterpolar": [
           {
            "marker": {
             "colorbar": {
              "outlinewidth": 0,
              "ticks": ""
             }
            },
            "type": "scatterpolar"
           }
          ],
          "scatterpolargl": [
           {
            "marker": {
             "colorbar": {
              "outlinewidth": 0,
              "ticks": ""
             }
            },
            "type": "scatterpolargl"
           }
          ],
          "scatterternary": [
           {
            "marker": {
             "colorbar": {
              "outlinewidth": 0,
              "ticks": ""
             }
            },
            "type": "scatterternary"
           }
          ],
          "surface": [
           {
            "colorbar": {
             "outlinewidth": 0,
             "ticks": ""
            },
            "colorscale": [
             [
              0,
              "#0d0887"
             ],
             [
              0.1111111111111111,
              "#46039f"
             ],
             [
              0.2222222222222222,
              "#7201a8"
             ],
             [
              0.3333333333333333,
              "#9c179e"
             ],
             [
              0.4444444444444444,
              "#bd3786"
             ],
             [
              0.5555555555555556,
              "#d8576b"
             ],
             [
              0.6666666666666666,
              "#ed7953"
             ],
             [
              0.7777777777777778,
              "#fb9f3a"
             ],
             [
              0.8888888888888888,
              "#fdca26"
             ],
             [
              1,
              "#f0f921"
             ]
            ],
            "type": "surface"
           }
          ],
          "table": [
           {
            "cells": {
             "fill": {
              "color": "#EBF0F8"
             },
             "line": {
              "color": "white"
             }
            },
            "header": {
             "fill": {
              "color": "#C8D4E3"
             },
             "line": {
              "color": "white"
             }
            },
            "type": "table"
           }
          ]
         },
         "layout": {
          "annotationdefaults": {
           "arrowcolor": "#2a3f5f",
           "arrowhead": 0,
           "arrowwidth": 1
          },
          "colorscale": {
           "diverging": [
            [
             0,
             "#8e0152"
            ],
            [
             0.1,
             "#c51b7d"
            ],
            [
             0.2,
             "#de77ae"
            ],
            [
             0.3,
             "#f1b6da"
            ],
            [
             0.4,
             "#fde0ef"
            ],
            [
             0.5,
             "#f7f7f7"
            ],
            [
             0.6,
             "#e6f5d0"
            ],
            [
             0.7,
             "#b8e186"
            ],
            [
             0.8,
             "#7fbc41"
            ],
            [
             0.9,
             "#4d9221"
            ],
            [
             1,
             "#276419"
            ]
           ],
           "sequential": [
            [
             0,
             "#0d0887"
            ],
            [
             0.1111111111111111,
             "#46039f"
            ],
            [
             0.2222222222222222,
             "#7201a8"
            ],
            [
             0.3333333333333333,
             "#9c179e"
            ],
            [
             0.4444444444444444,
             "#bd3786"
            ],
            [
             0.5555555555555556,
             "#d8576b"
            ],
            [
             0.6666666666666666,
             "#ed7953"
            ],
            [
             0.7777777777777778,
             "#fb9f3a"
            ],
            [
             0.8888888888888888,
             "#fdca26"
            ],
            [
             1,
             "#f0f921"
            ]
           ],
           "sequentialminus": [
            [
             0,
             "#0d0887"
            ],
            [
             0.1111111111111111,
             "#46039f"
            ],
            [
             0.2222222222222222,
             "#7201a8"
            ],
            [
             0.3333333333333333,
             "#9c179e"
            ],
            [
             0.4444444444444444,
             "#bd3786"
            ],
            [
             0.5555555555555556,
             "#d8576b"
            ],
            [
             0.6666666666666666,
             "#ed7953"
            ],
            [
             0.7777777777777778,
             "#fb9f3a"
            ],
            [
             0.8888888888888888,
             "#fdca26"
            ],
            [
             1,
             "#f0f921"
            ]
           ]
          },
          "colorway": [
           "#636efa",
           "#EF553B",
           "#00cc96",
           "#ab63fa",
           "#FFA15A",
           "#19d3f3",
           "#FF6692",
           "#B6E880",
           "#FF97FF",
           "#FECB52"
          ],
          "font": {
           "color": "#2a3f5f"
          },
          "geo": {
           "bgcolor": "white",
           "lakecolor": "white",
           "landcolor": "#E5ECF6",
           "showlakes": true,
           "showland": true,
           "subunitcolor": "white"
          },
          "hoverlabel": {
           "align": "left"
          },
          "hovermode": "closest",
          "mapbox": {
           "style": "light"
          },
          "paper_bgcolor": "white",
          "plot_bgcolor": "#E5ECF6",
          "polar": {
           "angularaxis": {
            "gridcolor": "white",
            "linecolor": "white",
            "ticks": ""
           },
           "bgcolor": "#E5ECF6",
           "radialaxis": {
            "gridcolor": "white",
            "linecolor": "white",
            "ticks": ""
           }
          },
          "scene": {
           "xaxis": {
            "backgroundcolor": "#E5ECF6",
            "gridcolor": "white",
            "gridwidth": 2,
            "linecolor": "white",
            "showbackground": true,
            "ticks": "",
            "zerolinecolor": "white"
           },
           "yaxis": {
            "backgroundcolor": "#E5ECF6",
            "gridcolor": "white",
            "gridwidth": 2,
            "linecolor": "white",
            "showbackground": true,
            "ticks": "",
            "zerolinecolor": "white"
           },
           "zaxis": {
            "backgroundcolor": "#E5ECF6",
            "gridcolor": "white",
            "gridwidth": 2,
            "linecolor": "white",
            "showbackground": true,
            "ticks": "",
            "zerolinecolor": "white"
           }
          },
          "shapedefaults": {
           "line": {
            "color": "#2a3f5f"
           }
          },
          "ternary": {
           "aaxis": {
            "gridcolor": "white",
            "linecolor": "white",
            "ticks": ""
           },
           "baxis": {
            "gridcolor": "white",
            "linecolor": "white",
            "ticks": ""
           },
           "bgcolor": "#E5ECF6",
           "caxis": {
            "gridcolor": "white",
            "linecolor": "white",
            "ticks": ""
           }
          },
          "title": {
           "x": 0.05
          },
          "xaxis": {
           "automargin": true,
           "gridcolor": "white",
           "linecolor": "white",
           "ticks": "",
           "zerolinecolor": "white",
           "zerolinewidth": 2
          },
          "yaxis": {
           "automargin": true,
           "gridcolor": "white",
           "linecolor": "white",
           "ticks": "",
           "zerolinecolor": "white",
           "zerolinewidth": 2
          }
         }
        },
        "xaxis": {
         "anchor": "y",
         "domain": [
          0,
          0.98
         ]
        },
        "yaxis": {
         "anchor": "x",
         "domain": [
          0,
          1
         ],
         "title": {
          "text": "Age"
         }
        }
       }
      },
      "text/html": [
       "<div>\n",
       "        \n",
       "        \n",
       "            <div id=\"562d4131-bdd1-4ca9-ae95-fbf99f000fe1\" class=\"plotly-graph-div\" style=\"height:600px; width:100%;\"></div>\n",
       "            <script type=\"text/javascript\">\n",
       "                require([\"plotly\"], function(Plotly) {\n",
       "                    window.PLOTLYENV=window.PLOTLYENV || {};\n",
       "                    \n",
       "                if (document.getElementById(\"562d4131-bdd1-4ca9-ae95-fbf99f000fe1\")) {\n",
       "                    Plotly.newPlot(\n",
       "                        '562d4131-bdd1-4ca9-ae95-fbf99f000fe1',\n",
       "                        [{\"alignmentgroup\": \"True\", \"boxpoints\": \"all\", \"hoverlabel\": {\"namelength\": 0}, \"hovertemplate\": \"Age=%{y}\", \"legendgroup\": \"\", \"marker\": {\"color\": \"#636efa\"}, \"name\": \"\", \"notched\": false, \"offsetgroup\": \"\", \"orientation\": \"v\", \"showlegend\": false, \"type\": \"box\", \"x0\": \" \", \"xaxis\": \"x\", \"y\": [37.0, 44.0, 32.0, 31.0, 31.0, 33.0, 35.0, 39.0, 42.0, 23.0, 31.0, 29.0, 42.0, 36.0, 27.0, 29.0, 23.0, 32.0, 46.0, 36.0, 29.0, 31.0, 46.0, 41.0, 33.0, 35.0, 33.0, 35.0, 34.0, 37.0, 32.0, 31.0, 30.0, 42.0, 40.0, 27.0, 29.0, 38.0, 50.0, 35.0, 24.0, 35.0, 27.0, 18.0, 30.0, 38.0, 28.0, 34.0, 26.0, 30.0, 22.0, 33.0, 31.0, 32.0, 28.0, 27.0, 32.0, 24.0, 26.0, 33.0, 44.0, 26.0, 27.0, 26.0, 35.0, 40.0, 23.0, 36.0, 31.0, 34.0, 28.0, 34.0, 23.0, 38.0, 33.0, 19.0, 25.0, 31.0, 32.0, 28.0, 38.0, 23.0, 30.0, 27.0, 33.0, 31.0, 39.0, 34.0, 29.0, 32.0, 31.0, 40.0, 34.0, 18.0, 25.0, 29.0, 24.0, 31.0, 33.0, 30.0, 26.0, 44.0, 25.0, 33.0, 29.0, 35.0, 35.0, 28.0, 34.0, 32.0, 22.0, 28.0, 45.0, 32.0, 28.0, 26.0, 21.0, 27.0, 18.0, 35.0, 29.0, 25.0, 33.0, 36.0, 27.0, 27.0, 27.0, 32.0, 31.0, 19.0, 33.0, 32.0, 27.0, 38.0, 24.0, 39.0, 28.0, 39.0, 29.0, 22.0, 38.0, 37.0, 35.0, null, 30.0, 37.0, 24.0, 23.0, 30.0, 29.0, 19.0, 32.0, 28.0, 36.0, 37.0, 25.0, 27.0, 26.0, 27.0, 25.0, 36.0, 25.0, 31.0, 26.0, 33.0, 27.0, 34.0, 42.0, 23.0, 24.0, 26.0, 31.0, 22.0, 23.0, 34.0, 31.0, 28.0, 32.0, 45.0, 33.0, 29.0, 26.0, 28.0, 45.0, 43.0, 37.0, 24.0, 26.0, 23.0, 35.0, 38.0, 28.0, 28.0, 35.0, 32.0, 31.0, 35.0, 26.0, 27.0, 28.0, 27.0, 34.0, 41.0, 37.0, 34.0, 32.0, 21.0, 30.0, 24.0, 26.0, 40.0, 37.0, 26.0, 32.0, 32.0, 27.0, 30.0, 31.0, 29.0, 41.0, 34.0, 33.0, 28.0, 28.0, 23.0, 24.0, 32.0, 34.0, 24.0, 26.0, 36.0, 41.0, 38.0, 38.0, 30.0, 25.0, 37.0, 34.0, 37.0, 28.0, 22.0, 34.0, 33.0, 25.0, 27.0, 40.0, 21.0, 29.0, 32.0, 29.0, 23.0, 28.0, 31.0, 27.0, 24.0, 29.0, 23.0, 42.0, 24.0, 25.0, 27.0, 27.0, 30.0, 29.0, 43.0, 32.0, 41.0, 32.0, 37.0, 32.0, 30.0, 23.0, 30.0, 34.0, 38.0, 33.0, 34.0, 28.0, 28.0, 23.0, 22.0, 27.0, 18.0, 35.0, 25.0, 27.0, 26.0, 18.0, 38.0, 26.0, 30.0, 35.0, 45.0, 32.0, 56.0, 24.0, 30.0, 60.0, 33.0, 37.0, 23.0, 31.0, 26.0, 28.0, 37.0, 26.0, 30.0, 26.0, 25.0, 27.0, 25.0, 35.0, 36.0, 26.0, 27.0, 30.0, 29.0, 25.0, 22.0, 29.0, 41.0, 29.0, 32.0, 24.0, 25.0, 25.0, 30.0, 25.0, 30.0, 33.0, 24.0, 25.0, 31.0, 45.0, 29.0, 46.0, 30.0, 29.0, 24.0, 29.0, 35.0, 33.0, 27.0, 36.0, 33.0, 25.0, 23.0, 54.0, 22.0, 25.0, 29.0, 27.0, 30.0, 26.0, 25.0, 31.0, 33.0, 34.0, 34.0, 29.0, 33.0, 34.0, 26.0, 32.0, null, 28.0, 35.0, 36.0, 21.0, 21.0, 22.0, 41.0, 55.0, 32.0, 21.0, 45.0, 27.0, 25.0, 34.0, 26.0, 41.0, 27.0, 31.0, 25.0, 26.0, 27.0, 42.0, 29.0, 25.0, 33.0, null, 40.0, 31.0, 26.0, 24.0, 29.0, 48.0, 35.0, 32.0, 29.0, 26.0, 28.0, 23.0, 35.0, 29.0, 26.0, 33.0, 33.0, 22.0, 30.0, 33.0, 31.0, 21.0, 31.0, 26.0, 30.0, 30.0, 23.0, 34.0, 55.0, 28.0, 26.0, 28.0, 32.0, 28.0, 21.0, 24.0, 26.0, 23.0, 24.0, 28.0, 24.0, 33.0, 34.0, 27.0, 28.0, 26.0, 20.0, 23.0, 29.0, 26.0, 36.0, 41.0, 33.0, 23.0, 39.0, 34.0, 26.0, 24.0, 37.0, 43.0, 40.0, 30.0, 34.0, 27.0, 36.0, 27.0, 35.0, 32.0, 37.0, 29.0, 33.0, 28.0, 26.0, 27.0, 38.0, 57.0, 28.0, 26.0, 42.0, 31.0, 58.0, 29.0, 39.0, 34.0, 57.0, 27.0, 23.0, 18.0, 30.0, 23.0, 43.0, 18.0, 29.0, 48.0, 43.0, 28.0, 30.0, 26.0, 33.0, 31.0, 30.0, 27.0, 24.0, 25.0, 23.0, 36.0, 25.0, 54.0, 34.0, 38.0, 40.0, 32.0, 25.0, 35.0, 46.0, 42.0, 32.0, 47.0, 22.0, 33.0, 25.0, 29.0, 39.0, 38.0, 43.0, 46.0, 38.0, 33.0, 34.0, 62.0, 23.0, 35.0, 25.0, 36.0, 41.0, 24.0, 51.0, 29.0, 31.0, 27.0, 31.0, 27.0, 23.0, 21.0, 27.0, 39.0, 26.0, 27.0, 22.0, 26.0, 31.0, 32.0, 28.0, 28.0, 23.0, 30.0, 36.0, 21.0, 30.0, 25.0, 32.0, 29.0, 21.0, 27.0, 32.0, 34.0, 33.0, 22.0, 24.0, 65.0, 27.0, 33.0, 36.0, 40.0, 28.0, 39.0, 32.0, 31.0, 38.0, 23.0, 42.0, 27.0, 26.0, 50.0, 37.0, 23.0, 33.0, 29.0, 34.0, 41.0, 50.0, 29.0, 35.0, 27.0, 40.0, 27.0, 29.0, 31.0, 43.0, 34.0, 29.0, 19.0, 41.0, 29.0, 23.0, 24.0, 31.0, 43.0, 31.0, 29.0, 35.0, 33.0, 30.0, 27.0, 32.0, 50.0, 24.0, 27.0, 27.0, 32.0, 42.0, 37.0, 30.0, 29.0, 30.0, 35.0, 35.0, 38.0, 22.0, 24.0, 22.0, 31.0, 23.0, 31.0, 28.0, 37.0, 34.0, 32.0, 28.0, 24.0, 56.0, 31.0, 34.0, 35.0, 28.0, 36.0, 30.0, 35.0, 49.0, 36.0, 35.0, 29.0, 57.0, 31.0, 37.0, 25.0, 30.0, 26.0, 22.0, 39.0, 29.0, 54.0, 34.0, 32.0, 25.0, 29.0, 32.0, 30.0, 31.0, 20.0, 27.0, 32.0, 26.0, 30.0, 30.0, 22.0, 24.0, 26.0, 43.0, 26.0, 23.0, 26.0, 26.0, 35.0, 28.0, 22.0, 29.0, 29.0, 45.0, 33.0, 38.0, 19.0, 29.0, 21.0, 23.0, 33.0, 49.0, 28.0, 27.0, 23.0, 29.0, 30.0, 28.0, 32.0, 32.0, 37.0, 39.0, 31.0, 29.0, 30.0, 33.0, 37.0, 23.0, 43.0, 32.0, 26.0, 32.0, 37.0, 29.0, 34.0, 27.0, 30.0, 29.0, 32.0, null, 25.0, 37.0, 29.0, 27.0, 33.0, 30.0, 29.0, 25.0, 33.0, 31.0, 21.0, 30.0, 29.0, 43.0, 37.0, 24.0, 29.0, 31.0, 5.0, 33.0, 43.0, 33.0, 27.0, 36.0, 37.0, 32.0, 39.0, 31.0, 36.0, 30.0, 28.0, 32.0, 35.0, 19.0, 33.0, 42.0, 37.0, 40.0, 36.0, 29.0, 38.0, 26.0, 34.0, 21.0, 31.0, 37.0, 37.0, 38.0, 27.0, 39.0, 33.0, 27.0, 36.0, 28.0, 39.0, 33.0, 32.0, 28.0, 37.0, 39.0, 43.0, 32.0, 27.0, 31.0, 43.0, 33.0, 34.0, 33.0, 25.0, 25.0, 32.0, 25.0, 37.0, 39.0, 29.0, 33.0, 37.0, 35.0, 22.0, 38.0, 32.0, 28.0, 27.0, 35.0, 29.0, 23.0, 39.0, 30.0, 32.0, 28.0, 40.0, 36.0, 27.0, 41.0, 29.0, 29.0, 35.0, 28.0, 36.0, 39.0, 39.0, 44.0, 26.0, 35.0, 40.0, 35.0, 38.0, 34.0, 43.0, 48.0, 20.0, 40.0, 29.0, 35.0, 29.0, 40.0, 29.0, 29.0, 34.0, 44.0, 24.0, 47.0, 43.0, 36.0, 43.0, 36.0, 31.0, 35.0, 33.0, 37.0, 34.0, 36.0, 40.0, 40.0, 42.0, 23.0, 21.0, 26.0, 31.0, 25.0, 51.0, 24.0, 33.0, 32.0, 32.0, 26.0, 23.0, 33.0, 46.0, 34.0, 35.0, 39.0, 32.0, 43.0, 56.0, 32.0, 41.0, 39.0, 37.0, 30.0, 31.0, 29.0, 23.0, 31.0, 29.0, 30.0, 37.0, 36.0, 35.0, 41.0, 31.0, 38.0, 26.0, 39.0, 42.0, 32.0, 29.0, 30.0, 40.0, 51.0, 33.0, 34.0, 50.0, 24.0, 25.0, 43.0, 25.0, 24.0, 51.0, 49.0, 30.0, 25.0, 36.0, 48.0, 48.0, 53.0, 24.0, 33.0, 25.0, 30.0, 30.0, 34.0, 31.0, 22.0, 28.0, 35.0, 28.0, 42.0, 33.0, 29.0, 43.0, 29.0, 25.0, 31.0, 35.0, 34.0, 43.0, 38.0, 26.0, 38.0, 42.0, 33.0, 32.0, 44.0, 28.0, 40.0, 31.0, 32.0, 28.0, 39.0, 45.0, 43.0, 35.0, 40.0, 34.0, 24.0, 61.0, 36.0, 38.0, 33.0, 30.0, 34.0, 26.0, 33.0, 32.0, 25.0, 35.0, 24.0, 55.0, 33.0, 26.0, 25.0, 45.0, 33.0, 43.0, 30.0, 40.0, 49.0, 29.0, 26.0, 38.0, 27.0, 26.0, 28.0, 40.0, 37.0, 34.0, 28.0, 27.0, 29.0, 39.0, 28.0, 23.0, 8.0, 38.0, 19.0, 30.0, 28.0, 20.0, 35.0, 39.0, 31.0, 32.0, 27.0, 25.0, 42.0, 34.0, 26.0, 35.0, 34.0, 38.0, 34.0, 39.0, 44.0, 40.0, 33.0, 24.0, 38.0, 31.0, 23.0, 26.0, 46.0, 30.0, 25.0, 19.0, 30.0, 32.0, 32.0, 37.0, 42.0, 25.0, 19.0, 40.0, 34.0, 26.0, 31.0, 40.0, 31.0, 36.0, 35.0, 26.0, 44.0, 34.0, 35.0, 28.0, 33.0, 40.0, 26.0, 29.0, 26.0, 33.0, 28.0, 41.0, 39.0, 26.0, 23.0, 35.0, 36.0, 42.0, 39.0, 27.0, 33.0, 31.0, 28.0, 29.0, 27.0, 44.0, 25.0, 24.0, 25.0, 34.0, 26.0, 48.0, 34.0, 39.0, 43.0, 41.0, 25.0, 31.0, 40.0, 43.0, 27.0, 37.0, 32.0, 25.0, 29.0, 30.0, 34.0, 32.0, 37.0, 41.0, 38.0, 32.0, 28.0, 11.0, 43.0, 32.0, 25.0, 37.0, 36.0, 24.0, 40.0, 29.0, 43.0, 29.0, 26.0, 33.0, 35.0, 45.0, 25.0, 50.0, 26.0, 33.0, 30.0, 33.0, 29.0, 37.0, 25.0, 40.0, 24.0, 40.0, 46.0, 38.0, 34.0, 32.0, 44.0, 33.0, 45.0, 35.0, 26.0, 20.0, null, 37.0, 28.0, 42.0, 32.0, 36.0, 27.0, 27.0, 27.0, 25.0, 41.0, 23.0, 21.0, 26.0, 29.0, 28.0, 27.0, 23.0, 26.0, 38.0, 39.0, 35.0, 32.0, 32.0, 26.0, 38.0, 34.0, 39.0, 32.0, 37.0, 31.0, 30.0, 51.0, 29.0, 31.0, 31.0, 26.0, 46.0, 32.0, 29.0, 34.0, 26.0, 32.0, 29.0, 30.0, 40.0, 23.0, 20.0, 38.0, 26.0, 29.0, 40.0, 25.0, 32.0, 38.0, 72.0, 35.0, 28.0, 27.0, 56.0, 38.0, 31.0, 40.0, 44.0, 34.0, 37.0, 38.0, 27.0, 34.0, 35.0, 34.0, 32.0, 25.0, 28.0, 28.0, 31.0, 24.0, 34.0, 32.0, 34.0, 23.0, 33.0, 29.0, 24.0, 45.0, 34.0, 31.0, 33.0, 28.0, 27.0, 42.0, 28.0, 38.0, 46.0, 46.0, 41.0, 23.0, 24.0, 23.0, 39.0, 32.0, 25.0, 39.0, 23.0, 24.0, 25.0, 23.0, 24.0, 23.0, 60.0, 28.0, 28.0, 30.0, 31.0, 31.0, 28.0, 43.0, 32.0, 22.0, 32.0, 36.0, 41.0, 30.0, 30.0, 36.0, 29.0, 36.0, 26.0, 32.0, 34.0, 46.0, 25.0], \"y0\": \" \", \"yaxis\": \"y\"}],\n",
       "                        {\"boxmode\": \"group\", \"height\": 600, \"legend\": {\"tracegroupgap\": 0}, \"margin\": {\"t\": 60}, \"template\": {\"data\": {\"bar\": [{\"error_x\": {\"color\": \"#2a3f5f\"}, \"error_y\": {\"color\": \"#2a3f5f\"}, \"marker\": {\"line\": {\"color\": \"#E5ECF6\", \"width\": 0.5}}, \"type\": \"bar\"}], \"barpolar\": [{\"marker\": {\"line\": {\"color\": \"#E5ECF6\", \"width\": 0.5}}, \"type\": \"barpolar\"}], \"carpet\": [{\"aaxis\": {\"endlinecolor\": \"#2a3f5f\", \"gridcolor\": \"white\", \"linecolor\": \"white\", \"minorgridcolor\": \"white\", \"startlinecolor\": \"#2a3f5f\"}, \"baxis\": {\"endlinecolor\": \"#2a3f5f\", \"gridcolor\": \"white\", \"linecolor\": \"white\", \"minorgridcolor\": \"white\", \"startlinecolor\": \"#2a3f5f\"}, \"type\": \"carpet\"}], \"choropleth\": [{\"colorbar\": {\"outlinewidth\": 0, \"ticks\": \"\"}, \"type\": \"choropleth\"}], \"contour\": [{\"colorbar\": {\"outlinewidth\": 0, \"ticks\": \"\"}, \"colorscale\": [[0.0, \"#0d0887\"], [0.1111111111111111, \"#46039f\"], [0.2222222222222222, \"#7201a8\"], [0.3333333333333333, \"#9c179e\"], [0.4444444444444444, \"#bd3786\"], [0.5555555555555556, \"#d8576b\"], [0.6666666666666666, \"#ed7953\"], [0.7777777777777778, \"#fb9f3a\"], [0.8888888888888888, \"#fdca26\"], [1.0, \"#f0f921\"]], \"type\": \"contour\"}], \"contourcarpet\": [{\"colorbar\": {\"outlinewidth\": 0, \"ticks\": \"\"}, \"type\": \"contourcarpet\"}], \"heatmap\": [{\"colorbar\": {\"outlinewidth\": 0, \"ticks\": \"\"}, \"colorscale\": [[0.0, \"#0d0887\"], [0.1111111111111111, \"#46039f\"], [0.2222222222222222, \"#7201a8\"], [0.3333333333333333, \"#9c179e\"], [0.4444444444444444, \"#bd3786\"], [0.5555555555555556, \"#d8576b\"], [0.6666666666666666, \"#ed7953\"], [0.7777777777777778, \"#fb9f3a\"], [0.8888888888888888, \"#fdca26\"], [1.0, \"#f0f921\"]], \"type\": \"heatmap\"}], \"heatmapgl\": [{\"colorbar\": {\"outlinewidth\": 0, \"ticks\": \"\"}, \"colorscale\": [[0.0, \"#0d0887\"], [0.1111111111111111, \"#46039f\"], [0.2222222222222222, \"#7201a8\"], [0.3333333333333333, \"#9c179e\"], [0.4444444444444444, \"#bd3786\"], [0.5555555555555556, \"#d8576b\"], [0.6666666666666666, \"#ed7953\"], [0.7777777777777778, \"#fb9f3a\"], [0.8888888888888888, \"#fdca26\"], [1.0, \"#f0f921\"]], \"type\": \"heatmapgl\"}], \"histogram\": [{\"marker\": {\"colorbar\": {\"outlinewidth\": 0, \"ticks\": \"\"}}, \"type\": \"histogram\"}], \"histogram2d\": [{\"colorbar\": {\"outlinewidth\": 0, \"ticks\": \"\"}, \"colorscale\": [[0.0, \"#0d0887\"], [0.1111111111111111, \"#46039f\"], [0.2222222222222222, \"#7201a8\"], [0.3333333333333333, \"#9c179e\"], [0.4444444444444444, \"#bd3786\"], [0.5555555555555556, \"#d8576b\"], [0.6666666666666666, \"#ed7953\"], [0.7777777777777778, \"#fb9f3a\"], [0.8888888888888888, \"#fdca26\"], [1.0, \"#f0f921\"]], \"type\": \"histogram2d\"}], \"histogram2dcontour\": [{\"colorbar\": {\"outlinewidth\": 0, \"ticks\": \"\"}, \"colorscale\": [[0.0, \"#0d0887\"], [0.1111111111111111, \"#46039f\"], [0.2222222222222222, \"#7201a8\"], [0.3333333333333333, \"#9c179e\"], [0.4444444444444444, \"#bd3786\"], [0.5555555555555556, \"#d8576b\"], [0.6666666666666666, \"#ed7953\"], [0.7777777777777778, \"#fb9f3a\"], [0.8888888888888888, \"#fdca26\"], [1.0, \"#f0f921\"]], \"type\": \"histogram2dcontour\"}], \"mesh3d\": [{\"colorbar\": {\"outlinewidth\": 0, \"ticks\": \"\"}, \"type\": \"mesh3d\"}], \"parcoords\": [{\"line\": {\"colorbar\": {\"outlinewidth\": 0, \"ticks\": \"\"}}, \"type\": \"parcoords\"}], \"scatter\": [{\"marker\": {\"colorbar\": {\"outlinewidth\": 0, \"ticks\": \"\"}}, \"type\": \"scatter\"}], \"scatter3d\": [{\"line\": {\"colorbar\": {\"outlinewidth\": 0, \"ticks\": \"\"}}, \"marker\": {\"colorbar\": {\"outlinewidth\": 0, \"ticks\": \"\"}}, \"type\": \"scatter3d\"}], \"scattercarpet\": [{\"marker\": {\"colorbar\": {\"outlinewidth\": 0, \"ticks\": \"\"}}, \"type\": \"scattercarpet\"}], \"scattergeo\": [{\"marker\": {\"colorbar\": {\"outlinewidth\": 0, \"ticks\": \"\"}}, \"type\": \"scattergeo\"}], \"scattergl\": [{\"marker\": {\"colorbar\": {\"outlinewidth\": 0, \"ticks\": \"\"}}, \"type\": \"scattergl\"}], \"scattermapbox\": [{\"marker\": {\"colorbar\": {\"outlinewidth\": 0, \"ticks\": \"\"}}, \"type\": \"scattermapbox\"}], \"scatterpolar\": [{\"marker\": {\"colorbar\": {\"outlinewidth\": 0, \"ticks\": \"\"}}, \"type\": \"scatterpolar\"}], \"scatterpolargl\": [{\"marker\": {\"colorbar\": {\"outlinewidth\": 0, \"ticks\": \"\"}}, \"type\": \"scatterpolargl\"}], \"scatterternary\": [{\"marker\": {\"colorbar\": {\"outlinewidth\": 0, \"ticks\": \"\"}}, \"type\": \"scatterternary\"}], \"surface\": [{\"colorbar\": {\"outlinewidth\": 0, \"ticks\": \"\"}, \"colorscale\": [[0.0, \"#0d0887\"], [0.1111111111111111, \"#46039f\"], [0.2222222222222222, \"#7201a8\"], [0.3333333333333333, \"#9c179e\"], [0.4444444444444444, \"#bd3786\"], [0.5555555555555556, \"#d8576b\"], [0.6666666666666666, \"#ed7953\"], [0.7777777777777778, \"#fb9f3a\"], [0.8888888888888888, \"#fdca26\"], [1.0, \"#f0f921\"]], \"type\": \"surface\"}], \"table\": [{\"cells\": {\"fill\": {\"color\": \"#EBF0F8\"}, \"line\": {\"color\": \"white\"}}, \"header\": {\"fill\": {\"color\": \"#C8D4E3\"}, \"line\": {\"color\": \"white\"}}, \"type\": \"table\"}]}, \"layout\": {\"annotationdefaults\": {\"arrowcolor\": \"#2a3f5f\", \"arrowhead\": 0, \"arrowwidth\": 1}, \"colorscale\": {\"diverging\": [[0, \"#8e0152\"], [0.1, \"#c51b7d\"], [0.2, \"#de77ae\"], [0.3, \"#f1b6da\"], [0.4, \"#fde0ef\"], [0.5, \"#f7f7f7\"], [0.6, \"#e6f5d0\"], [0.7, \"#b8e186\"], [0.8, \"#7fbc41\"], [0.9, \"#4d9221\"], [1, \"#276419\"]], \"sequential\": [[0.0, \"#0d0887\"], [0.1111111111111111, \"#46039f\"], [0.2222222222222222, \"#7201a8\"], [0.3333333333333333, \"#9c179e\"], [0.4444444444444444, \"#bd3786\"], [0.5555555555555556, \"#d8576b\"], [0.6666666666666666, \"#ed7953\"], [0.7777777777777778, \"#fb9f3a\"], [0.8888888888888888, \"#fdca26\"], [1.0, \"#f0f921\"]], \"sequentialminus\": [[0.0, \"#0d0887\"], [0.1111111111111111, \"#46039f\"], [0.2222222222222222, \"#7201a8\"], [0.3333333333333333, \"#9c179e\"], [0.4444444444444444, \"#bd3786\"], [0.5555555555555556, \"#d8576b\"], [0.6666666666666666, \"#ed7953\"], [0.7777777777777778, \"#fb9f3a\"], [0.8888888888888888, \"#fdca26\"], [1.0, \"#f0f921\"]]}, \"colorway\": [\"#636efa\", \"#EF553B\", \"#00cc96\", \"#ab63fa\", \"#FFA15A\", \"#19d3f3\", \"#FF6692\", \"#B6E880\", \"#FF97FF\", \"#FECB52\"], \"font\": {\"color\": \"#2a3f5f\"}, \"geo\": {\"bgcolor\": \"white\", \"lakecolor\": \"white\", \"landcolor\": \"#E5ECF6\", \"showlakes\": true, \"showland\": true, \"subunitcolor\": \"white\"}, \"hoverlabel\": {\"align\": \"left\"}, \"hovermode\": \"closest\", \"mapbox\": {\"style\": \"light\"}, \"paper_bgcolor\": \"white\", \"plot_bgcolor\": \"#E5ECF6\", \"polar\": {\"angularaxis\": {\"gridcolor\": \"white\", \"linecolor\": \"white\", \"ticks\": \"\"}, \"bgcolor\": \"#E5ECF6\", \"radialaxis\": {\"gridcolor\": \"white\", \"linecolor\": \"white\", \"ticks\": \"\"}}, \"scene\": {\"xaxis\": {\"backgroundcolor\": \"#E5ECF6\", \"gridcolor\": \"white\", \"gridwidth\": 2, \"linecolor\": \"white\", \"showbackground\": true, \"ticks\": \"\", \"zerolinecolor\": \"white\"}, \"yaxis\": {\"backgroundcolor\": \"#E5ECF6\", \"gridcolor\": \"white\", \"gridwidth\": 2, \"linecolor\": \"white\", \"showbackground\": true, \"ticks\": \"\", \"zerolinecolor\": \"white\"}, \"zaxis\": {\"backgroundcolor\": \"#E5ECF6\", \"gridcolor\": \"white\", \"gridwidth\": 2, \"linecolor\": \"white\", \"showbackground\": true, \"ticks\": \"\", \"zerolinecolor\": \"white\"}}, \"shapedefaults\": {\"line\": {\"color\": \"#2a3f5f\"}}, \"ternary\": {\"aaxis\": {\"gridcolor\": \"white\", \"linecolor\": \"white\", \"ticks\": \"\"}, \"baxis\": {\"gridcolor\": \"white\", \"linecolor\": \"white\", \"ticks\": \"\"}, \"bgcolor\": \"#E5ECF6\", \"caxis\": {\"gridcolor\": \"white\", \"linecolor\": \"white\", \"ticks\": \"\"}}, \"title\": {\"x\": 0.05}, \"xaxis\": {\"automargin\": true, \"gridcolor\": \"white\", \"linecolor\": \"white\", \"ticks\": \"\", \"zerolinecolor\": \"white\", \"zerolinewidth\": 2}, \"yaxis\": {\"automargin\": true, \"gridcolor\": \"white\", \"linecolor\": \"white\", \"ticks\": \"\", \"zerolinecolor\": \"white\", \"zerolinewidth\": 2}}}, \"xaxis\": {\"anchor\": \"y\", \"domain\": [0.0, 0.98]}, \"yaxis\": {\"anchor\": \"x\", \"domain\": [0.0, 1.0], \"title\": {\"text\": \"Age\"}}},\n",
       "                        {\"responsive\": true}\n",
       "                    ).then(function(){\n",
       "                            \n",
       "var gd = document.getElementById('562d4131-bdd1-4ca9-ae95-fbf99f000fe1');\n",
       "var x = new MutationObserver(function (mutations, observer) {{\n",
       "        var display = window.getComputedStyle(gd).display;\n",
       "        if (!display || display === 'none') {{\n",
       "            console.log([gd, 'removed!']);\n",
       "            Plotly.purge(gd);\n",
       "            observer.disconnect();\n",
       "        }}\n",
       "}});\n",
       "\n",
       "// Listen for the removal of the full notebook cells\n",
       "var notebookContainer = gd.closest('#notebook-container');\n",
       "if (notebookContainer) {{\n",
       "    x.observe(notebookContainer, {childList: true});\n",
       "}}\n",
       "\n",
       "// Listen for the clearing of the current output cell\n",
       "var outputEl = gd.closest('.output');\n",
       "if (outputEl) {{\n",
       "    x.observe(outputEl, {childList: true});\n",
       "}}\n",
       "\n",
       "                        })\n",
       "                };\n",
       "                });\n",
       "            </script>\n",
       "        </div>"
      ]
     },
     "metadata": {},
     "output_type": "display_data"
    }
   ],
   "source": [
    "fig = px.box(df, y=\"Age\", points='all')\n",
    "fig.show()"
   ]
  },
  {
   "cell_type": "code",
   "execution_count": 39,
   "metadata": {},
   "outputs": [
    {
     "data": {
      "application/vnd.plotly.v1+json": {
       "config": {
        "plotlyServerURL": "https://plot.ly"
       },
       "data": [
        {
         "boxpoints": "suspectedoutliers",
         "line": {
          "color": "rgb(8,81,156)"
         },
         "marker": {
          "color": "rgb(8,81,156)",
          "line": {
           "outliercolor": "rgba(219, 64, 82, 0.6)",
           "outlierwidth": 2
          },
          "outliercolor": "rgba(219, 64, 82, 0.6)"
         },
         "name": "Age",
         "type": "box",
         "y": [
          37,
          44,
          32,
          31,
          31,
          33,
          35,
          39,
          42,
          23,
          31,
          29,
          42,
          36,
          27,
          29,
          23,
          32,
          46,
          36,
          29,
          31,
          46,
          41,
          33,
          35,
          33,
          35,
          34,
          37,
          32,
          31,
          30,
          42,
          40,
          27,
          29,
          38,
          50,
          35,
          24,
          35,
          27,
          18,
          30,
          38,
          28,
          34,
          26,
          30,
          22,
          33,
          31,
          32,
          28,
          27,
          32,
          24,
          26,
          33,
          44,
          26,
          27,
          26,
          35,
          40,
          23,
          36,
          31,
          34,
          28,
          34,
          23,
          38,
          33,
          19,
          25,
          31,
          32,
          28,
          38,
          23,
          30,
          27,
          33,
          31,
          39,
          34,
          29,
          32,
          31,
          40,
          34,
          18,
          25,
          29,
          24,
          31,
          33,
          30,
          26,
          44,
          25,
          33,
          29,
          35,
          35,
          28,
          34,
          32,
          22,
          28,
          45,
          32,
          28,
          26,
          21,
          27,
          18,
          35,
          29,
          25,
          33,
          36,
          27,
          27,
          27,
          32,
          31,
          19,
          33,
          32,
          27,
          38,
          24,
          39,
          28,
          39,
          29,
          22,
          38,
          37,
          35,
          null,
          30,
          37,
          24,
          23,
          30,
          29,
          19,
          32,
          28,
          36,
          37,
          25,
          27,
          26,
          27,
          25,
          36,
          25,
          31,
          26,
          33,
          27,
          34,
          42,
          23,
          24,
          26,
          31,
          22,
          23,
          34,
          31,
          28,
          32,
          45,
          33,
          29,
          26,
          28,
          45,
          43,
          37,
          24,
          26,
          23,
          35,
          38,
          28,
          28,
          35,
          32,
          31,
          35,
          26,
          27,
          28,
          27,
          34,
          41,
          37,
          34,
          32,
          21,
          30,
          24,
          26,
          40,
          37,
          26,
          32,
          32,
          27,
          30,
          31,
          29,
          41,
          34,
          33,
          28,
          28,
          23,
          24,
          32,
          34,
          24,
          26,
          36,
          41,
          38,
          38,
          30,
          25,
          37,
          34,
          37,
          28,
          22,
          34,
          33,
          25,
          27,
          40,
          21,
          29,
          32,
          29,
          23,
          28,
          31,
          27,
          24,
          29,
          23,
          42,
          24,
          25,
          27,
          27,
          30,
          29,
          43,
          32,
          41,
          32,
          37,
          32,
          30,
          23,
          30,
          34,
          38,
          33,
          34,
          28,
          28,
          23,
          22,
          27,
          18,
          35,
          25,
          27,
          26,
          18,
          38,
          26,
          30,
          35,
          45,
          32,
          56,
          24,
          30,
          60,
          33,
          37,
          23,
          31,
          26,
          28,
          37,
          26,
          30,
          26,
          25,
          27,
          25,
          35,
          36,
          26,
          27,
          30,
          29,
          25,
          22,
          29,
          41,
          29,
          32,
          24,
          25,
          25,
          30,
          25,
          30,
          33,
          24,
          25,
          31,
          45,
          29,
          46,
          30,
          29,
          24,
          29,
          35,
          33,
          27,
          36,
          33,
          25,
          23,
          54,
          22,
          25,
          29,
          27,
          30,
          26,
          25,
          31,
          33,
          34,
          34,
          29,
          33,
          34,
          26,
          32,
          null,
          28,
          35,
          36,
          21,
          21,
          22,
          41,
          55,
          32,
          21,
          45,
          27,
          25,
          34,
          26,
          41,
          27,
          31,
          25,
          26,
          27,
          42,
          29,
          25,
          33,
          null,
          40,
          31,
          26,
          24,
          29,
          48,
          35,
          32,
          29,
          26,
          28,
          23,
          35,
          29,
          26,
          33,
          33,
          22,
          30,
          33,
          31,
          21,
          31,
          26,
          30,
          30,
          23,
          34,
          55,
          28,
          26,
          28,
          32,
          28,
          21,
          24,
          26,
          23,
          24,
          28,
          24,
          33,
          34,
          27,
          28,
          26,
          20,
          23,
          29,
          26,
          36,
          41,
          33,
          23,
          39,
          34,
          26,
          24,
          37,
          43,
          40,
          30,
          34,
          27,
          36,
          27,
          35,
          32,
          37,
          29,
          33,
          28,
          26,
          27,
          38,
          57,
          28,
          26,
          42,
          31,
          58,
          29,
          39,
          34,
          57,
          27,
          23,
          18,
          30,
          23,
          43,
          18,
          29,
          48,
          43,
          28,
          30,
          26,
          33,
          31,
          30,
          27,
          24,
          25,
          23,
          36,
          25,
          54,
          34,
          38,
          40,
          32,
          25,
          35,
          46,
          42,
          32,
          47,
          22,
          33,
          25,
          29,
          39,
          38,
          43,
          46,
          38,
          33,
          34,
          62,
          23,
          35,
          25,
          36,
          41,
          24,
          51,
          29,
          31,
          27,
          31,
          27,
          23,
          21,
          27,
          39,
          26,
          27,
          22,
          26,
          31,
          32,
          28,
          28,
          23,
          30,
          36,
          21,
          30,
          25,
          32,
          29,
          21,
          27,
          32,
          34,
          33,
          22,
          24,
          65,
          27,
          33,
          36,
          40,
          28,
          39,
          32,
          31,
          38,
          23,
          42,
          27,
          26,
          50,
          37,
          23,
          33,
          29,
          34,
          41,
          50,
          29,
          35,
          27,
          40,
          27,
          29,
          31,
          43,
          34,
          29,
          19,
          41,
          29,
          23,
          24,
          31,
          43,
          31,
          29,
          35,
          33,
          30,
          27,
          32,
          50,
          24,
          27,
          27,
          32,
          42,
          37,
          30,
          29,
          30,
          35,
          35,
          38,
          22,
          24,
          22,
          31,
          23,
          31,
          28,
          37,
          34,
          32,
          28,
          24,
          56,
          31,
          34,
          35,
          28,
          36,
          30,
          35,
          49,
          36,
          35,
          29,
          57,
          31,
          37,
          25,
          30,
          26,
          22,
          39,
          29,
          54,
          34,
          32,
          25,
          29,
          32,
          30,
          31,
          20,
          27,
          32,
          26,
          30,
          30,
          22,
          24,
          26,
          43,
          26,
          23,
          26,
          26,
          35,
          28,
          22,
          29,
          29,
          45,
          33,
          38,
          19,
          29,
          21,
          23,
          33,
          49,
          28,
          27,
          23,
          29,
          30,
          28,
          32,
          32,
          37,
          39,
          31,
          29,
          30,
          33,
          37,
          23,
          43,
          32,
          26,
          32,
          37,
          29,
          34,
          27,
          30,
          29,
          32,
          null,
          25,
          37,
          29,
          27,
          33,
          30,
          29,
          25,
          33,
          31,
          21,
          30,
          29,
          43,
          37,
          24,
          29,
          31,
          5,
          33,
          43,
          33,
          27,
          36,
          37,
          32,
          39,
          31,
          36,
          30,
          28,
          32,
          35,
          19,
          33,
          42,
          37,
          40,
          36,
          29,
          38,
          26,
          34,
          21,
          31,
          37,
          37,
          38,
          27,
          39,
          33,
          27,
          36,
          28,
          39,
          33,
          32,
          28,
          37,
          39,
          43,
          32,
          27,
          31,
          43,
          33,
          34,
          33,
          25,
          25,
          32,
          25,
          37,
          39,
          29,
          33,
          37,
          35,
          22,
          38,
          32,
          28,
          27,
          35,
          29,
          23,
          39,
          30,
          32,
          28,
          40,
          36,
          27,
          41,
          29,
          29,
          35,
          28,
          36,
          39,
          39,
          44,
          26,
          35,
          40,
          35,
          38,
          34,
          43,
          48,
          20,
          40,
          29,
          35,
          29,
          40,
          29,
          29,
          34,
          44,
          24,
          47,
          43,
          36,
          43,
          36,
          31,
          35,
          33,
          37,
          34,
          36,
          40,
          40,
          42,
          23,
          21,
          26,
          31,
          25,
          51,
          24,
          33,
          32,
          32,
          26,
          23,
          33,
          46,
          34,
          35,
          39,
          32,
          43,
          56,
          32,
          41,
          39,
          37,
          30,
          31,
          29,
          23,
          31,
          29,
          30,
          37,
          36,
          35,
          41,
          31,
          38,
          26,
          39,
          42,
          32,
          29,
          30,
          40,
          51,
          33,
          34,
          50,
          24,
          25,
          43,
          25,
          24,
          51,
          49,
          30,
          25,
          36,
          48,
          48,
          53,
          24,
          33,
          25,
          30,
          30,
          34,
          31,
          22,
          28,
          35,
          28,
          42,
          33,
          29,
          43,
          29,
          25,
          31,
          35,
          34,
          43,
          38,
          26,
          38,
          42,
          33,
          32,
          44,
          28,
          40,
          31,
          32,
          28,
          39,
          45,
          43,
          35,
          40,
          34,
          24,
          61,
          36,
          38,
          33,
          30,
          34,
          26,
          33,
          32,
          25,
          35,
          24,
          55,
          33,
          26,
          25,
          45,
          33,
          43,
          30,
          40,
          49,
          29,
          26,
          38,
          27,
          26,
          28,
          40,
          37,
          34,
          28,
          27,
          29,
          39,
          28,
          23,
          8,
          38,
          19,
          30,
          28,
          20,
          35,
          39,
          31,
          32,
          27,
          25,
          42,
          34,
          26,
          35,
          34,
          38,
          34,
          39,
          44,
          40,
          33,
          24,
          38,
          31,
          23,
          26,
          46,
          30,
          25,
          19,
          30,
          32,
          32,
          37,
          42,
          25,
          19,
          40,
          34,
          26,
          31,
          40,
          31,
          36,
          35,
          26,
          44,
          34,
          35,
          28,
          33,
          40,
          26,
          29,
          26,
          33,
          28,
          41,
          39,
          26,
          23,
          35,
          36,
          42,
          39,
          27,
          33,
          31,
          28,
          29,
          27,
          44,
          25,
          24,
          25,
          34,
          26,
          48,
          34,
          39,
          43,
          41,
          25,
          31,
          40,
          43,
          27,
          37,
          32,
          25,
          29,
          30,
          34,
          32,
          37,
          41,
          38,
          32,
          28,
          11,
          43,
          32,
          25,
          37,
          36,
          24,
          40,
          29,
          43,
          29,
          26,
          33,
          35,
          45,
          25,
          50,
          26,
          33,
          30,
          33,
          29,
          37,
          25,
          40,
          24,
          40,
          46,
          38,
          34,
          32,
          44,
          33,
          45,
          35,
          26,
          20,
          null,
          37,
          28,
          42,
          32,
          36,
          27,
          27,
          27,
          25,
          41,
          23,
          21,
          26,
          29,
          28,
          27,
          23,
          26,
          38,
          39,
          35,
          32,
          32,
          26,
          38,
          34,
          39,
          32,
          37,
          31,
          30,
          51,
          29,
          31,
          31,
          26,
          46,
          32,
          29,
          34,
          26,
          32,
          29,
          30,
          40,
          23,
          20,
          38,
          26,
          29,
          40,
          25,
          32,
          38,
          72,
          35,
          28,
          27,
          56,
          38,
          31,
          40,
          44,
          34,
          37,
          38,
          27,
          34,
          35,
          34,
          32,
          25,
          28,
          28,
          31,
          24,
          34,
          32,
          34,
          23,
          33,
          29,
          24,
          45,
          34,
          31,
          33,
          28,
          27,
          42,
          28,
          38,
          46,
          46,
          41,
          23,
          24,
          23,
          39,
          32,
          25,
          39,
          23,
          24,
          25,
          23,
          24,
          23,
          60,
          28,
          28,
          30,
          31,
          31,
          28,
          43,
          32,
          22,
          32,
          36,
          41,
          30,
          30,
          36,
          29,
          36,
          26,
          32,
          34,
          46,
          25
         ]
        }
       ],
       "layout": {
        "template": {
         "data": {
          "bar": [
           {
            "error_x": {
             "color": "#2a3f5f"
            },
            "error_y": {
             "color": "#2a3f5f"
            },
            "marker": {
             "line": {
              "color": "#E5ECF6",
              "width": 0.5
             }
            },
            "type": "bar"
           }
          ],
          "barpolar": [
           {
            "marker": {
             "line": {
              "color": "#E5ECF6",
              "width": 0.5
             }
            },
            "type": "barpolar"
           }
          ],
          "carpet": [
           {
            "aaxis": {
             "endlinecolor": "#2a3f5f",
             "gridcolor": "white",
             "linecolor": "white",
             "minorgridcolor": "white",
             "startlinecolor": "#2a3f5f"
            },
            "baxis": {
             "endlinecolor": "#2a3f5f",
             "gridcolor": "white",
             "linecolor": "white",
             "minorgridcolor": "white",
             "startlinecolor": "#2a3f5f"
            },
            "type": "carpet"
           }
          ],
          "choropleth": [
           {
            "colorbar": {
             "outlinewidth": 0,
             "ticks": ""
            },
            "type": "choropleth"
           }
          ],
          "contour": [
           {
            "colorbar": {
             "outlinewidth": 0,
             "ticks": ""
            },
            "colorscale": [
             [
              0,
              "#0d0887"
             ],
             [
              0.1111111111111111,
              "#46039f"
             ],
             [
              0.2222222222222222,
              "#7201a8"
             ],
             [
              0.3333333333333333,
              "#9c179e"
             ],
             [
              0.4444444444444444,
              "#bd3786"
             ],
             [
              0.5555555555555556,
              "#d8576b"
             ],
             [
              0.6666666666666666,
              "#ed7953"
             ],
             [
              0.7777777777777778,
              "#fb9f3a"
             ],
             [
              0.8888888888888888,
              "#fdca26"
             ],
             [
              1,
              "#f0f921"
             ]
            ],
            "type": "contour"
           }
          ],
          "contourcarpet": [
           {
            "colorbar": {
             "outlinewidth": 0,
             "ticks": ""
            },
            "type": "contourcarpet"
           }
          ],
          "heatmap": [
           {
            "colorbar": {
             "outlinewidth": 0,
             "ticks": ""
            },
            "colorscale": [
             [
              0,
              "#0d0887"
             ],
             [
              0.1111111111111111,
              "#46039f"
             ],
             [
              0.2222222222222222,
              "#7201a8"
             ],
             [
              0.3333333333333333,
              "#9c179e"
             ],
             [
              0.4444444444444444,
              "#bd3786"
             ],
             [
              0.5555555555555556,
              "#d8576b"
             ],
             [
              0.6666666666666666,
              "#ed7953"
             ],
             [
              0.7777777777777778,
              "#fb9f3a"
             ],
             [
              0.8888888888888888,
              "#fdca26"
             ],
             [
              1,
              "#f0f921"
             ]
            ],
            "type": "heatmap"
           }
          ],
          "heatmapgl": [
           {
            "colorbar": {
             "outlinewidth": 0,
             "ticks": ""
            },
            "colorscale": [
             [
              0,
              "#0d0887"
             ],
             [
              0.1111111111111111,
              "#46039f"
             ],
             [
              0.2222222222222222,
              "#7201a8"
             ],
             [
              0.3333333333333333,
              "#9c179e"
             ],
             [
              0.4444444444444444,
              "#bd3786"
             ],
             [
              0.5555555555555556,
              "#d8576b"
             ],
             [
              0.6666666666666666,
              "#ed7953"
             ],
             [
              0.7777777777777778,
              "#fb9f3a"
             ],
             [
              0.8888888888888888,
              "#fdca26"
             ],
             [
              1,
              "#f0f921"
             ]
            ],
            "type": "heatmapgl"
           }
          ],
          "histogram": [
           {
            "marker": {
             "colorbar": {
              "outlinewidth": 0,
              "ticks": ""
             }
            },
            "type": "histogram"
           }
          ],
          "histogram2d": [
           {
            "colorbar": {
             "outlinewidth": 0,
             "ticks": ""
            },
            "colorscale": [
             [
              0,
              "#0d0887"
             ],
             [
              0.1111111111111111,
              "#46039f"
             ],
             [
              0.2222222222222222,
              "#7201a8"
             ],
             [
              0.3333333333333333,
              "#9c179e"
             ],
             [
              0.4444444444444444,
              "#bd3786"
             ],
             [
              0.5555555555555556,
              "#d8576b"
             ],
             [
              0.6666666666666666,
              "#ed7953"
             ],
             [
              0.7777777777777778,
              "#fb9f3a"
             ],
             [
              0.8888888888888888,
              "#fdca26"
             ],
             [
              1,
              "#f0f921"
             ]
            ],
            "type": "histogram2d"
           }
          ],
          "histogram2dcontour": [
           {
            "colorbar": {
             "outlinewidth": 0,
             "ticks": ""
            },
            "colorscale": [
             [
              0,
              "#0d0887"
             ],
             [
              0.1111111111111111,
              "#46039f"
             ],
             [
              0.2222222222222222,
              "#7201a8"
             ],
             [
              0.3333333333333333,
              "#9c179e"
             ],
             [
              0.4444444444444444,
              "#bd3786"
             ],
             [
              0.5555555555555556,
              "#d8576b"
             ],
             [
              0.6666666666666666,
              "#ed7953"
             ],
             [
              0.7777777777777778,
              "#fb9f3a"
             ],
             [
              0.8888888888888888,
              "#fdca26"
             ],
             [
              1,
              "#f0f921"
             ]
            ],
            "type": "histogram2dcontour"
           }
          ],
          "mesh3d": [
           {
            "colorbar": {
             "outlinewidth": 0,
             "ticks": ""
            },
            "type": "mesh3d"
           }
          ],
          "parcoords": [
           {
            "line": {
             "colorbar": {
              "outlinewidth": 0,
              "ticks": ""
             }
            },
            "type": "parcoords"
           }
          ],
          "scatter": [
           {
            "marker": {
             "colorbar": {
              "outlinewidth": 0,
              "ticks": ""
             }
            },
            "type": "scatter"
           }
          ],
          "scatter3d": [
           {
            "line": {
             "colorbar": {
              "outlinewidth": 0,
              "ticks": ""
             }
            },
            "marker": {
             "colorbar": {
              "outlinewidth": 0,
              "ticks": ""
             }
            },
            "type": "scatter3d"
           }
          ],
          "scattercarpet": [
           {
            "marker": {
             "colorbar": {
              "outlinewidth": 0,
              "ticks": ""
             }
            },
            "type": "scattercarpet"
           }
          ],
          "scattergeo": [
           {
            "marker": {
             "colorbar": {
              "outlinewidth": 0,
              "ticks": ""
             }
            },
            "type": "scattergeo"
           }
          ],
          "scattergl": [
           {
            "marker": {
             "colorbar": {
              "outlinewidth": 0,
              "ticks": ""
             }
            },
            "type": "scattergl"
           }
          ],
          "scattermapbox": [
           {
            "marker": {
             "colorbar": {
              "outlinewidth": 0,
              "ticks": ""
             }
            },
            "type": "scattermapbox"
           }
          ],
          "scatterpolar": [
           {
            "marker": {
             "colorbar": {
              "outlinewidth": 0,
              "ticks": ""
             }
            },
            "type": "scatterpolar"
           }
          ],
          "scatterpolargl": [
           {
            "marker": {
             "colorbar": {
              "outlinewidth": 0,
              "ticks": ""
             }
            },
            "type": "scatterpolargl"
           }
          ],
          "scatterternary": [
           {
            "marker": {
             "colorbar": {
              "outlinewidth": 0,
              "ticks": ""
             }
            },
            "type": "scatterternary"
           }
          ],
          "surface": [
           {
            "colorbar": {
             "outlinewidth": 0,
             "ticks": ""
            },
            "colorscale": [
             [
              0,
              "#0d0887"
             ],
             [
              0.1111111111111111,
              "#46039f"
             ],
             [
              0.2222222222222222,
              "#7201a8"
             ],
             [
              0.3333333333333333,
              "#9c179e"
             ],
             [
              0.4444444444444444,
              "#bd3786"
             ],
             [
              0.5555555555555556,
              "#d8576b"
             ],
             [
              0.6666666666666666,
              "#ed7953"
             ],
             [
              0.7777777777777778,
              "#fb9f3a"
             ],
             [
              0.8888888888888888,
              "#fdca26"
             ],
             [
              1,
              "#f0f921"
             ]
            ],
            "type": "surface"
           }
          ],
          "table": [
           {
            "cells": {
             "fill": {
              "color": "#EBF0F8"
             },
             "line": {
              "color": "white"
             }
            },
            "header": {
             "fill": {
              "color": "#C8D4E3"
             },
             "line": {
              "color": "white"
             }
            },
            "type": "table"
           }
          ]
         },
         "layout": {
          "annotationdefaults": {
           "arrowcolor": "#2a3f5f",
           "arrowhead": 0,
           "arrowwidth": 1
          },
          "colorscale": {
           "diverging": [
            [
             0,
             "#8e0152"
            ],
            [
             0.1,
             "#c51b7d"
            ],
            [
             0.2,
             "#de77ae"
            ],
            [
             0.3,
             "#f1b6da"
            ],
            [
             0.4,
             "#fde0ef"
            ],
            [
             0.5,
             "#f7f7f7"
            ],
            [
             0.6,
             "#e6f5d0"
            ],
            [
             0.7,
             "#b8e186"
            ],
            [
             0.8,
             "#7fbc41"
            ],
            [
             0.9,
             "#4d9221"
            ],
            [
             1,
             "#276419"
            ]
           ],
           "sequential": [
            [
             0,
             "#0d0887"
            ],
            [
             0.1111111111111111,
             "#46039f"
            ],
            [
             0.2222222222222222,
             "#7201a8"
            ],
            [
             0.3333333333333333,
             "#9c179e"
            ],
            [
             0.4444444444444444,
             "#bd3786"
            ],
            [
             0.5555555555555556,
             "#d8576b"
            ],
            [
             0.6666666666666666,
             "#ed7953"
            ],
            [
             0.7777777777777778,
             "#fb9f3a"
            ],
            [
             0.8888888888888888,
             "#fdca26"
            ],
            [
             1,
             "#f0f921"
            ]
           ],
           "sequentialminus": [
            [
             0,
             "#0d0887"
            ],
            [
             0.1111111111111111,
             "#46039f"
            ],
            [
             0.2222222222222222,
             "#7201a8"
            ],
            [
             0.3333333333333333,
             "#9c179e"
            ],
            [
             0.4444444444444444,
             "#bd3786"
            ],
            [
             0.5555555555555556,
             "#d8576b"
            ],
            [
             0.6666666666666666,
             "#ed7953"
            ],
            [
             0.7777777777777778,
             "#fb9f3a"
            ],
            [
             0.8888888888888888,
             "#fdca26"
            ],
            [
             1,
             "#f0f921"
            ]
           ]
          },
          "colorway": [
           "#636efa",
           "#EF553B",
           "#00cc96",
           "#ab63fa",
           "#FFA15A",
           "#19d3f3",
           "#FF6692",
           "#B6E880",
           "#FF97FF",
           "#FECB52"
          ],
          "font": {
           "color": "#2a3f5f"
          },
          "geo": {
           "bgcolor": "white",
           "lakecolor": "white",
           "landcolor": "#E5ECF6",
           "showlakes": true,
           "showland": true,
           "subunitcolor": "white"
          },
          "hoverlabel": {
           "align": "left"
          },
          "hovermode": "closest",
          "mapbox": {
           "style": "light"
          },
          "paper_bgcolor": "white",
          "plot_bgcolor": "#E5ECF6",
          "polar": {
           "angularaxis": {
            "gridcolor": "white",
            "linecolor": "white",
            "ticks": ""
           },
           "bgcolor": "#E5ECF6",
           "radialaxis": {
            "gridcolor": "white",
            "linecolor": "white",
            "ticks": ""
           }
          },
          "scene": {
           "xaxis": {
            "backgroundcolor": "#E5ECF6",
            "gridcolor": "white",
            "gridwidth": 2,
            "linecolor": "white",
            "showbackground": true,
            "ticks": "",
            "zerolinecolor": "white"
           },
           "yaxis": {
            "backgroundcolor": "#E5ECF6",
            "gridcolor": "white",
            "gridwidth": 2,
            "linecolor": "white",
            "showbackground": true,
            "ticks": "",
            "zerolinecolor": "white"
           },
           "zaxis": {
            "backgroundcolor": "#E5ECF6",
            "gridcolor": "white",
            "gridwidth": 2,
            "linecolor": "white",
            "showbackground": true,
            "ticks": "",
            "zerolinecolor": "white"
           }
          },
          "shapedefaults": {
           "line": {
            "color": "#2a3f5f"
           }
          },
          "ternary": {
           "aaxis": {
            "gridcolor": "white",
            "linecolor": "white",
            "ticks": ""
           },
           "baxis": {
            "gridcolor": "white",
            "linecolor": "white",
            "ticks": ""
           },
           "bgcolor": "#E5ECF6",
           "caxis": {
            "gridcolor": "white",
            "linecolor": "white",
            "ticks": ""
           }
          },
          "title": {
           "x": 0.05
          },
          "xaxis": {
           "automargin": true,
           "gridcolor": "white",
           "linecolor": "white",
           "ticks": "",
           "zerolinecolor": "white",
           "zerolinewidth": 2
          },
          "yaxis": {
           "automargin": true,
           "gridcolor": "white",
           "linecolor": "white",
           "ticks": "",
           "zerolinecolor": "white",
           "zerolinewidth": 2
          }
         }
        }
       }
      },
      "text/html": [
       "<div>\n",
       "        \n",
       "        \n",
       "            <div id=\"aae2dac5-5884-4828-9999-c90d7984e282\" class=\"plotly-graph-div\" style=\"height:525px; width:100%;\"></div>\n",
       "            <script type=\"text/javascript\">\n",
       "                require([\"plotly\"], function(Plotly) {\n",
       "                    window.PLOTLYENV=window.PLOTLYENV || {};\n",
       "                    \n",
       "                if (document.getElementById(\"aae2dac5-5884-4828-9999-c90d7984e282\")) {\n",
       "                    Plotly.newPlot(\n",
       "                        'aae2dac5-5884-4828-9999-c90d7984e282',\n",
       "                        [{\"boxpoints\": \"suspectedoutliers\", \"line\": {\"color\": \"rgb(8,81,156)\"}, \"marker\": {\"color\": \"rgb(8,81,156)\", \"line\": {\"outliercolor\": \"rgba(219, 64, 82, 0.6)\", \"outlierwidth\": 2}, \"outliercolor\": \"rgba(219, 64, 82, 0.6)\"}, \"name\": \"Age\", \"type\": \"box\", \"y\": [37.0, 44.0, 32.0, 31.0, 31.0, 33.0, 35.0, 39.0, 42.0, 23.0, 31.0, 29.0, 42.0, 36.0, 27.0, 29.0, 23.0, 32.0, 46.0, 36.0, 29.0, 31.0, 46.0, 41.0, 33.0, 35.0, 33.0, 35.0, 34.0, 37.0, 32.0, 31.0, 30.0, 42.0, 40.0, 27.0, 29.0, 38.0, 50.0, 35.0, 24.0, 35.0, 27.0, 18.0, 30.0, 38.0, 28.0, 34.0, 26.0, 30.0, 22.0, 33.0, 31.0, 32.0, 28.0, 27.0, 32.0, 24.0, 26.0, 33.0, 44.0, 26.0, 27.0, 26.0, 35.0, 40.0, 23.0, 36.0, 31.0, 34.0, 28.0, 34.0, 23.0, 38.0, 33.0, 19.0, 25.0, 31.0, 32.0, 28.0, 38.0, 23.0, 30.0, 27.0, 33.0, 31.0, 39.0, 34.0, 29.0, 32.0, 31.0, 40.0, 34.0, 18.0, 25.0, 29.0, 24.0, 31.0, 33.0, 30.0, 26.0, 44.0, 25.0, 33.0, 29.0, 35.0, 35.0, 28.0, 34.0, 32.0, 22.0, 28.0, 45.0, 32.0, 28.0, 26.0, 21.0, 27.0, 18.0, 35.0, 29.0, 25.0, 33.0, 36.0, 27.0, 27.0, 27.0, 32.0, 31.0, 19.0, 33.0, 32.0, 27.0, 38.0, 24.0, 39.0, 28.0, 39.0, 29.0, 22.0, 38.0, 37.0, 35.0, null, 30.0, 37.0, 24.0, 23.0, 30.0, 29.0, 19.0, 32.0, 28.0, 36.0, 37.0, 25.0, 27.0, 26.0, 27.0, 25.0, 36.0, 25.0, 31.0, 26.0, 33.0, 27.0, 34.0, 42.0, 23.0, 24.0, 26.0, 31.0, 22.0, 23.0, 34.0, 31.0, 28.0, 32.0, 45.0, 33.0, 29.0, 26.0, 28.0, 45.0, 43.0, 37.0, 24.0, 26.0, 23.0, 35.0, 38.0, 28.0, 28.0, 35.0, 32.0, 31.0, 35.0, 26.0, 27.0, 28.0, 27.0, 34.0, 41.0, 37.0, 34.0, 32.0, 21.0, 30.0, 24.0, 26.0, 40.0, 37.0, 26.0, 32.0, 32.0, 27.0, 30.0, 31.0, 29.0, 41.0, 34.0, 33.0, 28.0, 28.0, 23.0, 24.0, 32.0, 34.0, 24.0, 26.0, 36.0, 41.0, 38.0, 38.0, 30.0, 25.0, 37.0, 34.0, 37.0, 28.0, 22.0, 34.0, 33.0, 25.0, 27.0, 40.0, 21.0, 29.0, 32.0, 29.0, 23.0, 28.0, 31.0, 27.0, 24.0, 29.0, 23.0, 42.0, 24.0, 25.0, 27.0, 27.0, 30.0, 29.0, 43.0, 32.0, 41.0, 32.0, 37.0, 32.0, 30.0, 23.0, 30.0, 34.0, 38.0, 33.0, 34.0, 28.0, 28.0, 23.0, 22.0, 27.0, 18.0, 35.0, 25.0, 27.0, 26.0, 18.0, 38.0, 26.0, 30.0, 35.0, 45.0, 32.0, 56.0, 24.0, 30.0, 60.0, 33.0, 37.0, 23.0, 31.0, 26.0, 28.0, 37.0, 26.0, 30.0, 26.0, 25.0, 27.0, 25.0, 35.0, 36.0, 26.0, 27.0, 30.0, 29.0, 25.0, 22.0, 29.0, 41.0, 29.0, 32.0, 24.0, 25.0, 25.0, 30.0, 25.0, 30.0, 33.0, 24.0, 25.0, 31.0, 45.0, 29.0, 46.0, 30.0, 29.0, 24.0, 29.0, 35.0, 33.0, 27.0, 36.0, 33.0, 25.0, 23.0, 54.0, 22.0, 25.0, 29.0, 27.0, 30.0, 26.0, 25.0, 31.0, 33.0, 34.0, 34.0, 29.0, 33.0, 34.0, 26.0, 32.0, null, 28.0, 35.0, 36.0, 21.0, 21.0, 22.0, 41.0, 55.0, 32.0, 21.0, 45.0, 27.0, 25.0, 34.0, 26.0, 41.0, 27.0, 31.0, 25.0, 26.0, 27.0, 42.0, 29.0, 25.0, 33.0, null, 40.0, 31.0, 26.0, 24.0, 29.0, 48.0, 35.0, 32.0, 29.0, 26.0, 28.0, 23.0, 35.0, 29.0, 26.0, 33.0, 33.0, 22.0, 30.0, 33.0, 31.0, 21.0, 31.0, 26.0, 30.0, 30.0, 23.0, 34.0, 55.0, 28.0, 26.0, 28.0, 32.0, 28.0, 21.0, 24.0, 26.0, 23.0, 24.0, 28.0, 24.0, 33.0, 34.0, 27.0, 28.0, 26.0, 20.0, 23.0, 29.0, 26.0, 36.0, 41.0, 33.0, 23.0, 39.0, 34.0, 26.0, 24.0, 37.0, 43.0, 40.0, 30.0, 34.0, 27.0, 36.0, 27.0, 35.0, 32.0, 37.0, 29.0, 33.0, 28.0, 26.0, 27.0, 38.0, 57.0, 28.0, 26.0, 42.0, 31.0, 58.0, 29.0, 39.0, 34.0, 57.0, 27.0, 23.0, 18.0, 30.0, 23.0, 43.0, 18.0, 29.0, 48.0, 43.0, 28.0, 30.0, 26.0, 33.0, 31.0, 30.0, 27.0, 24.0, 25.0, 23.0, 36.0, 25.0, 54.0, 34.0, 38.0, 40.0, 32.0, 25.0, 35.0, 46.0, 42.0, 32.0, 47.0, 22.0, 33.0, 25.0, 29.0, 39.0, 38.0, 43.0, 46.0, 38.0, 33.0, 34.0, 62.0, 23.0, 35.0, 25.0, 36.0, 41.0, 24.0, 51.0, 29.0, 31.0, 27.0, 31.0, 27.0, 23.0, 21.0, 27.0, 39.0, 26.0, 27.0, 22.0, 26.0, 31.0, 32.0, 28.0, 28.0, 23.0, 30.0, 36.0, 21.0, 30.0, 25.0, 32.0, 29.0, 21.0, 27.0, 32.0, 34.0, 33.0, 22.0, 24.0, 65.0, 27.0, 33.0, 36.0, 40.0, 28.0, 39.0, 32.0, 31.0, 38.0, 23.0, 42.0, 27.0, 26.0, 50.0, 37.0, 23.0, 33.0, 29.0, 34.0, 41.0, 50.0, 29.0, 35.0, 27.0, 40.0, 27.0, 29.0, 31.0, 43.0, 34.0, 29.0, 19.0, 41.0, 29.0, 23.0, 24.0, 31.0, 43.0, 31.0, 29.0, 35.0, 33.0, 30.0, 27.0, 32.0, 50.0, 24.0, 27.0, 27.0, 32.0, 42.0, 37.0, 30.0, 29.0, 30.0, 35.0, 35.0, 38.0, 22.0, 24.0, 22.0, 31.0, 23.0, 31.0, 28.0, 37.0, 34.0, 32.0, 28.0, 24.0, 56.0, 31.0, 34.0, 35.0, 28.0, 36.0, 30.0, 35.0, 49.0, 36.0, 35.0, 29.0, 57.0, 31.0, 37.0, 25.0, 30.0, 26.0, 22.0, 39.0, 29.0, 54.0, 34.0, 32.0, 25.0, 29.0, 32.0, 30.0, 31.0, 20.0, 27.0, 32.0, 26.0, 30.0, 30.0, 22.0, 24.0, 26.0, 43.0, 26.0, 23.0, 26.0, 26.0, 35.0, 28.0, 22.0, 29.0, 29.0, 45.0, 33.0, 38.0, 19.0, 29.0, 21.0, 23.0, 33.0, 49.0, 28.0, 27.0, 23.0, 29.0, 30.0, 28.0, 32.0, 32.0, 37.0, 39.0, 31.0, 29.0, 30.0, 33.0, 37.0, 23.0, 43.0, 32.0, 26.0, 32.0, 37.0, 29.0, 34.0, 27.0, 30.0, 29.0, 32.0, null, 25.0, 37.0, 29.0, 27.0, 33.0, 30.0, 29.0, 25.0, 33.0, 31.0, 21.0, 30.0, 29.0, 43.0, 37.0, 24.0, 29.0, 31.0, 5.0, 33.0, 43.0, 33.0, 27.0, 36.0, 37.0, 32.0, 39.0, 31.0, 36.0, 30.0, 28.0, 32.0, 35.0, 19.0, 33.0, 42.0, 37.0, 40.0, 36.0, 29.0, 38.0, 26.0, 34.0, 21.0, 31.0, 37.0, 37.0, 38.0, 27.0, 39.0, 33.0, 27.0, 36.0, 28.0, 39.0, 33.0, 32.0, 28.0, 37.0, 39.0, 43.0, 32.0, 27.0, 31.0, 43.0, 33.0, 34.0, 33.0, 25.0, 25.0, 32.0, 25.0, 37.0, 39.0, 29.0, 33.0, 37.0, 35.0, 22.0, 38.0, 32.0, 28.0, 27.0, 35.0, 29.0, 23.0, 39.0, 30.0, 32.0, 28.0, 40.0, 36.0, 27.0, 41.0, 29.0, 29.0, 35.0, 28.0, 36.0, 39.0, 39.0, 44.0, 26.0, 35.0, 40.0, 35.0, 38.0, 34.0, 43.0, 48.0, 20.0, 40.0, 29.0, 35.0, 29.0, 40.0, 29.0, 29.0, 34.0, 44.0, 24.0, 47.0, 43.0, 36.0, 43.0, 36.0, 31.0, 35.0, 33.0, 37.0, 34.0, 36.0, 40.0, 40.0, 42.0, 23.0, 21.0, 26.0, 31.0, 25.0, 51.0, 24.0, 33.0, 32.0, 32.0, 26.0, 23.0, 33.0, 46.0, 34.0, 35.0, 39.0, 32.0, 43.0, 56.0, 32.0, 41.0, 39.0, 37.0, 30.0, 31.0, 29.0, 23.0, 31.0, 29.0, 30.0, 37.0, 36.0, 35.0, 41.0, 31.0, 38.0, 26.0, 39.0, 42.0, 32.0, 29.0, 30.0, 40.0, 51.0, 33.0, 34.0, 50.0, 24.0, 25.0, 43.0, 25.0, 24.0, 51.0, 49.0, 30.0, 25.0, 36.0, 48.0, 48.0, 53.0, 24.0, 33.0, 25.0, 30.0, 30.0, 34.0, 31.0, 22.0, 28.0, 35.0, 28.0, 42.0, 33.0, 29.0, 43.0, 29.0, 25.0, 31.0, 35.0, 34.0, 43.0, 38.0, 26.0, 38.0, 42.0, 33.0, 32.0, 44.0, 28.0, 40.0, 31.0, 32.0, 28.0, 39.0, 45.0, 43.0, 35.0, 40.0, 34.0, 24.0, 61.0, 36.0, 38.0, 33.0, 30.0, 34.0, 26.0, 33.0, 32.0, 25.0, 35.0, 24.0, 55.0, 33.0, 26.0, 25.0, 45.0, 33.0, 43.0, 30.0, 40.0, 49.0, 29.0, 26.0, 38.0, 27.0, 26.0, 28.0, 40.0, 37.0, 34.0, 28.0, 27.0, 29.0, 39.0, 28.0, 23.0, 8.0, 38.0, 19.0, 30.0, 28.0, 20.0, 35.0, 39.0, 31.0, 32.0, 27.0, 25.0, 42.0, 34.0, 26.0, 35.0, 34.0, 38.0, 34.0, 39.0, 44.0, 40.0, 33.0, 24.0, 38.0, 31.0, 23.0, 26.0, 46.0, 30.0, 25.0, 19.0, 30.0, 32.0, 32.0, 37.0, 42.0, 25.0, 19.0, 40.0, 34.0, 26.0, 31.0, 40.0, 31.0, 36.0, 35.0, 26.0, 44.0, 34.0, 35.0, 28.0, 33.0, 40.0, 26.0, 29.0, 26.0, 33.0, 28.0, 41.0, 39.0, 26.0, 23.0, 35.0, 36.0, 42.0, 39.0, 27.0, 33.0, 31.0, 28.0, 29.0, 27.0, 44.0, 25.0, 24.0, 25.0, 34.0, 26.0, 48.0, 34.0, 39.0, 43.0, 41.0, 25.0, 31.0, 40.0, 43.0, 27.0, 37.0, 32.0, 25.0, 29.0, 30.0, 34.0, 32.0, 37.0, 41.0, 38.0, 32.0, 28.0, 11.0, 43.0, 32.0, 25.0, 37.0, 36.0, 24.0, 40.0, 29.0, 43.0, 29.0, 26.0, 33.0, 35.0, 45.0, 25.0, 50.0, 26.0, 33.0, 30.0, 33.0, 29.0, 37.0, 25.0, 40.0, 24.0, 40.0, 46.0, 38.0, 34.0, 32.0, 44.0, 33.0, 45.0, 35.0, 26.0, 20.0, null, 37.0, 28.0, 42.0, 32.0, 36.0, 27.0, 27.0, 27.0, 25.0, 41.0, 23.0, 21.0, 26.0, 29.0, 28.0, 27.0, 23.0, 26.0, 38.0, 39.0, 35.0, 32.0, 32.0, 26.0, 38.0, 34.0, 39.0, 32.0, 37.0, 31.0, 30.0, 51.0, 29.0, 31.0, 31.0, 26.0, 46.0, 32.0, 29.0, 34.0, 26.0, 32.0, 29.0, 30.0, 40.0, 23.0, 20.0, 38.0, 26.0, 29.0, 40.0, 25.0, 32.0, 38.0, 72.0, 35.0, 28.0, 27.0, 56.0, 38.0, 31.0, 40.0, 44.0, 34.0, 37.0, 38.0, 27.0, 34.0, 35.0, 34.0, 32.0, 25.0, 28.0, 28.0, 31.0, 24.0, 34.0, 32.0, 34.0, 23.0, 33.0, 29.0, 24.0, 45.0, 34.0, 31.0, 33.0, 28.0, 27.0, 42.0, 28.0, 38.0, 46.0, 46.0, 41.0, 23.0, 24.0, 23.0, 39.0, 32.0, 25.0, 39.0, 23.0, 24.0, 25.0, 23.0, 24.0, 23.0, 60.0, 28.0, 28.0, 30.0, 31.0, 31.0, 28.0, 43.0, 32.0, 22.0, 32.0, 36.0, 41.0, 30.0, 30.0, 36.0, 29.0, 36.0, 26.0, 32.0, 34.0, 46.0, 25.0]}],\n",
       "                        {\"template\": {\"data\": {\"bar\": [{\"error_x\": {\"color\": \"#2a3f5f\"}, \"error_y\": {\"color\": \"#2a3f5f\"}, \"marker\": {\"line\": {\"color\": \"#E5ECF6\", \"width\": 0.5}}, \"type\": \"bar\"}], \"barpolar\": [{\"marker\": {\"line\": {\"color\": \"#E5ECF6\", \"width\": 0.5}}, \"type\": \"barpolar\"}], \"carpet\": [{\"aaxis\": {\"endlinecolor\": \"#2a3f5f\", \"gridcolor\": \"white\", \"linecolor\": \"white\", \"minorgridcolor\": \"white\", \"startlinecolor\": \"#2a3f5f\"}, \"baxis\": {\"endlinecolor\": \"#2a3f5f\", \"gridcolor\": \"white\", \"linecolor\": \"white\", \"minorgridcolor\": \"white\", \"startlinecolor\": \"#2a3f5f\"}, \"type\": \"carpet\"}], \"choropleth\": [{\"colorbar\": {\"outlinewidth\": 0, \"ticks\": \"\"}, \"type\": \"choropleth\"}], \"contour\": [{\"colorbar\": {\"outlinewidth\": 0, \"ticks\": \"\"}, \"colorscale\": [[0.0, \"#0d0887\"], [0.1111111111111111, \"#46039f\"], [0.2222222222222222, \"#7201a8\"], [0.3333333333333333, \"#9c179e\"], [0.4444444444444444, \"#bd3786\"], [0.5555555555555556, \"#d8576b\"], [0.6666666666666666, \"#ed7953\"], [0.7777777777777778, \"#fb9f3a\"], [0.8888888888888888, \"#fdca26\"], [1.0, \"#f0f921\"]], \"type\": \"contour\"}], \"contourcarpet\": [{\"colorbar\": {\"outlinewidth\": 0, \"ticks\": \"\"}, \"type\": \"contourcarpet\"}], \"heatmap\": [{\"colorbar\": {\"outlinewidth\": 0, \"ticks\": \"\"}, \"colorscale\": [[0.0, \"#0d0887\"], [0.1111111111111111, \"#46039f\"], [0.2222222222222222, \"#7201a8\"], [0.3333333333333333, \"#9c179e\"], [0.4444444444444444, \"#bd3786\"], [0.5555555555555556, \"#d8576b\"], [0.6666666666666666, \"#ed7953\"], [0.7777777777777778, \"#fb9f3a\"], [0.8888888888888888, \"#fdca26\"], [1.0, \"#f0f921\"]], \"type\": \"heatmap\"}], \"heatmapgl\": [{\"colorbar\": {\"outlinewidth\": 0, \"ticks\": \"\"}, \"colorscale\": [[0.0, \"#0d0887\"], [0.1111111111111111, \"#46039f\"], [0.2222222222222222, \"#7201a8\"], [0.3333333333333333, \"#9c179e\"], [0.4444444444444444, \"#bd3786\"], [0.5555555555555556, \"#d8576b\"], [0.6666666666666666, \"#ed7953\"], [0.7777777777777778, \"#fb9f3a\"], [0.8888888888888888, \"#fdca26\"], [1.0, \"#f0f921\"]], \"type\": \"heatmapgl\"}], \"histogram\": [{\"marker\": {\"colorbar\": {\"outlinewidth\": 0, \"ticks\": \"\"}}, \"type\": \"histogram\"}], \"histogram2d\": [{\"colorbar\": {\"outlinewidth\": 0, \"ticks\": \"\"}, \"colorscale\": [[0.0, \"#0d0887\"], [0.1111111111111111, \"#46039f\"], [0.2222222222222222, \"#7201a8\"], [0.3333333333333333, \"#9c179e\"], [0.4444444444444444, \"#bd3786\"], [0.5555555555555556, \"#d8576b\"], [0.6666666666666666, \"#ed7953\"], [0.7777777777777778, \"#fb9f3a\"], [0.8888888888888888, \"#fdca26\"], [1.0, \"#f0f921\"]], \"type\": \"histogram2d\"}], \"histogram2dcontour\": [{\"colorbar\": {\"outlinewidth\": 0, \"ticks\": \"\"}, \"colorscale\": [[0.0, \"#0d0887\"], [0.1111111111111111, \"#46039f\"], [0.2222222222222222, \"#7201a8\"], [0.3333333333333333, \"#9c179e\"], [0.4444444444444444, \"#bd3786\"], [0.5555555555555556, \"#d8576b\"], [0.6666666666666666, \"#ed7953\"], [0.7777777777777778, \"#fb9f3a\"], [0.8888888888888888, \"#fdca26\"], [1.0, \"#f0f921\"]], \"type\": \"histogram2dcontour\"}], \"mesh3d\": [{\"colorbar\": {\"outlinewidth\": 0, \"ticks\": \"\"}, \"type\": \"mesh3d\"}], \"parcoords\": [{\"line\": {\"colorbar\": {\"outlinewidth\": 0, \"ticks\": \"\"}}, \"type\": \"parcoords\"}], \"scatter\": [{\"marker\": {\"colorbar\": {\"outlinewidth\": 0, \"ticks\": \"\"}}, \"type\": \"scatter\"}], \"scatter3d\": [{\"line\": {\"colorbar\": {\"outlinewidth\": 0, \"ticks\": \"\"}}, \"marker\": {\"colorbar\": {\"outlinewidth\": 0, \"ticks\": \"\"}}, \"type\": \"scatter3d\"}], \"scattercarpet\": [{\"marker\": {\"colorbar\": {\"outlinewidth\": 0, \"ticks\": \"\"}}, \"type\": \"scattercarpet\"}], \"scattergeo\": [{\"marker\": {\"colorbar\": {\"outlinewidth\": 0, \"ticks\": \"\"}}, \"type\": \"scattergeo\"}], \"scattergl\": [{\"marker\": {\"colorbar\": {\"outlinewidth\": 0, \"ticks\": \"\"}}, \"type\": \"scattergl\"}], \"scattermapbox\": [{\"marker\": {\"colorbar\": {\"outlinewidth\": 0, \"ticks\": \"\"}}, \"type\": \"scattermapbox\"}], \"scatterpolar\": [{\"marker\": {\"colorbar\": {\"outlinewidth\": 0, \"ticks\": \"\"}}, \"type\": \"scatterpolar\"}], \"scatterpolargl\": [{\"marker\": {\"colorbar\": {\"outlinewidth\": 0, \"ticks\": \"\"}}, \"type\": \"scatterpolargl\"}], \"scatterternary\": [{\"marker\": {\"colorbar\": {\"outlinewidth\": 0, \"ticks\": \"\"}}, \"type\": \"scatterternary\"}], \"surface\": [{\"colorbar\": {\"outlinewidth\": 0, \"ticks\": \"\"}, \"colorscale\": [[0.0, \"#0d0887\"], [0.1111111111111111, \"#46039f\"], [0.2222222222222222, \"#7201a8\"], [0.3333333333333333, \"#9c179e\"], [0.4444444444444444, \"#bd3786\"], [0.5555555555555556, \"#d8576b\"], [0.6666666666666666, \"#ed7953\"], [0.7777777777777778, \"#fb9f3a\"], [0.8888888888888888, \"#fdca26\"], [1.0, \"#f0f921\"]], \"type\": \"surface\"}], \"table\": [{\"cells\": {\"fill\": {\"color\": \"#EBF0F8\"}, \"line\": {\"color\": \"white\"}}, \"header\": {\"fill\": {\"color\": \"#C8D4E3\"}, \"line\": {\"color\": \"white\"}}, \"type\": \"table\"}]}, \"layout\": {\"annotationdefaults\": {\"arrowcolor\": \"#2a3f5f\", \"arrowhead\": 0, \"arrowwidth\": 1}, \"colorscale\": {\"diverging\": [[0, \"#8e0152\"], [0.1, \"#c51b7d\"], [0.2, \"#de77ae\"], [0.3, \"#f1b6da\"], [0.4, \"#fde0ef\"], [0.5, \"#f7f7f7\"], [0.6, \"#e6f5d0\"], [0.7, \"#b8e186\"], [0.8, \"#7fbc41\"], [0.9, \"#4d9221\"], [1, \"#276419\"]], \"sequential\": [[0.0, \"#0d0887\"], [0.1111111111111111, \"#46039f\"], [0.2222222222222222, \"#7201a8\"], [0.3333333333333333, \"#9c179e\"], [0.4444444444444444, \"#bd3786\"], [0.5555555555555556, \"#d8576b\"], [0.6666666666666666, \"#ed7953\"], [0.7777777777777778, \"#fb9f3a\"], [0.8888888888888888, \"#fdca26\"], [1.0, \"#f0f921\"]], \"sequentialminus\": [[0.0, \"#0d0887\"], [0.1111111111111111, \"#46039f\"], [0.2222222222222222, \"#7201a8\"], [0.3333333333333333, \"#9c179e\"], [0.4444444444444444, \"#bd3786\"], [0.5555555555555556, \"#d8576b\"], [0.6666666666666666, \"#ed7953\"], [0.7777777777777778, \"#fb9f3a\"], [0.8888888888888888, \"#fdca26\"], [1.0, \"#f0f921\"]]}, \"colorway\": [\"#636efa\", \"#EF553B\", \"#00cc96\", \"#ab63fa\", \"#FFA15A\", \"#19d3f3\", \"#FF6692\", \"#B6E880\", \"#FF97FF\", \"#FECB52\"], \"font\": {\"color\": \"#2a3f5f\"}, \"geo\": {\"bgcolor\": \"white\", \"lakecolor\": \"white\", \"landcolor\": \"#E5ECF6\", \"showlakes\": true, \"showland\": true, \"subunitcolor\": \"white\"}, \"hoverlabel\": {\"align\": \"left\"}, \"hovermode\": \"closest\", \"mapbox\": {\"style\": \"light\"}, \"paper_bgcolor\": \"white\", \"plot_bgcolor\": \"#E5ECF6\", \"polar\": {\"angularaxis\": {\"gridcolor\": \"white\", \"linecolor\": \"white\", \"ticks\": \"\"}, \"bgcolor\": \"#E5ECF6\", \"radialaxis\": {\"gridcolor\": \"white\", \"linecolor\": \"white\", \"ticks\": \"\"}}, \"scene\": {\"xaxis\": {\"backgroundcolor\": \"#E5ECF6\", \"gridcolor\": \"white\", \"gridwidth\": 2, \"linecolor\": \"white\", \"showbackground\": true, \"ticks\": \"\", \"zerolinecolor\": \"white\"}, \"yaxis\": {\"backgroundcolor\": \"#E5ECF6\", \"gridcolor\": \"white\", \"gridwidth\": 2, \"linecolor\": \"white\", \"showbackground\": true, \"ticks\": \"\", \"zerolinecolor\": \"white\"}, \"zaxis\": {\"backgroundcolor\": \"#E5ECF6\", \"gridcolor\": \"white\", \"gridwidth\": 2, \"linecolor\": \"white\", \"showbackground\": true, \"ticks\": \"\", \"zerolinecolor\": \"white\"}}, \"shapedefaults\": {\"line\": {\"color\": \"#2a3f5f\"}}, \"ternary\": {\"aaxis\": {\"gridcolor\": \"white\", \"linecolor\": \"white\", \"ticks\": \"\"}, \"baxis\": {\"gridcolor\": \"white\", \"linecolor\": \"white\", \"ticks\": \"\"}, \"bgcolor\": \"#E5ECF6\", \"caxis\": {\"gridcolor\": \"white\", \"linecolor\": \"white\", \"ticks\": \"\"}}, \"title\": {\"x\": 0.05}, \"xaxis\": {\"automargin\": true, \"gridcolor\": \"white\", \"linecolor\": \"white\", \"ticks\": \"\", \"zerolinecolor\": \"white\", \"zerolinewidth\": 2}, \"yaxis\": {\"automargin\": true, \"gridcolor\": \"white\", \"linecolor\": \"white\", \"ticks\": \"\", \"zerolinecolor\": \"white\", \"zerolinewidth\": 2}}}},\n",
       "                        {\"responsive\": true}\n",
       "                    ).then(function(){\n",
       "                            \n",
       "var gd = document.getElementById('aae2dac5-5884-4828-9999-c90d7984e282');\n",
       "var x = new MutationObserver(function (mutations, observer) {{\n",
       "        var display = window.getComputedStyle(gd).display;\n",
       "        if (!display || display === 'none') {{\n",
       "            console.log([gd, 'removed!']);\n",
       "            Plotly.purge(gd);\n",
       "            observer.disconnect();\n",
       "        }}\n",
       "}});\n",
       "\n",
       "// Listen for the removal of the full notebook cells\n",
       "var notebookContainer = gd.closest('#notebook-container');\n",
       "if (notebookContainer) {{\n",
       "    x.observe(notebookContainer, {childList: true});\n",
       "}}\n",
       "\n",
       "// Listen for the clearing of the current output cell\n",
       "var outputEl = gd.closest('.output');\n",
       "if (outputEl) {{\n",
       "    x.observe(outputEl, {childList: true});\n",
       "}}\n",
       "\n",
       "                        })\n",
       "                };\n",
       "                });\n",
       "            </script>\n",
       "        </div>"
      ]
     },
     "metadata": {},
     "output_type": "display_data"
    }
   ],
   "source": [
    "import plotly.graph_objects as go\n",
    "\n",
    "fig = go.Figure()\n",
    "# fig.add_trace(go.Box(\n",
    "#     y=df.Age,\n",
    "#     name='Age',\n",
    "#     marker_color='darkblue',\n",
    "#     boxmean=True # represent mean\n",
    "# ))\n",
    "# fig.add_trace(go.Box(\n",
    "#     y=df.Age,\n",
    "#     name='Mean & SD',\n",
    "#     marker_color='darkblue',\n",
    "#     boxmean='sd' # represent mean and standard deviation\n",
    "# ))\n",
    "fig.add_trace(go.Box(\n",
    "    y=df.Age,\n",
    "    name=\"Age\",\n",
    "    boxpoints='suspectedoutliers', # only suspected outliers\n",
    "#     boxpoints='outliers',\n",
    "    marker=dict(\n",
    "        color='rgb(8,81,156)',\n",
    "        outliercolor='rgba(219, 64, 82, 0.6)',\n",
    "        line=dict(\n",
    "            outliercolor='rgba(219, 64, 82, 0.6)',\n",
    "            outlierwidth=2)),\n",
    "    line_color='rgb(8,81,156)'\n",
    "))\n",
    "fig.show()"
   ]
  },
  {
   "cell_type": "code",
   "execution_count": null,
   "metadata": {},
   "outputs": [],
   "source": []
  }
 ],
 "metadata": {
  "kernelspec": {
   "display_name": "Python 3",
   "language": "python",
   "name": "python3"
  },
  "language_info": {
   "codemirror_mode": {
    "name": "ipython",
    "version": 3
   },
   "file_extension": ".py",
   "mimetype": "text/x-python",
   "name": "python",
   "nbconvert_exporter": "python",
   "pygments_lexer": "ipython3",
   "version": "3.7.5"
  }
 },
 "nbformat": 4,
 "nbformat_minor": 2
}
